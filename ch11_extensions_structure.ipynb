{
 "cells": [
  {
   "cell_type": "markdown",
   "id": "5789fd42",
   "metadata": {},
   "source": [
    "# 확장과 구조"
   ]
  },
  {
   "cell_type": "markdown",
   "id": "868dbceb",
   "metadata": {},
   "source": [
    "## 멀티프로세싱과 멀티스레딩"
   ]
  },
  {
   "cell_type": "markdown",
   "id": "4443b9f7",
   "metadata": {},
   "source": [
    "### 멀티스레드는 GIL로 한계"
   ]
  },
  {
   "cell_type": "code",
   "execution_count": 2,
   "id": "2c7cc4c2",
   "metadata": {},
   "outputs": [
    {
     "name": "stdout",
     "output_type": "stream",
     "text": [
      "Writing ch11/multithread.py\n"
     ]
    }
   ],
   "source": [
    "%%writefile ch11/multithread.py\n",
    "import random\n",
    "import threading\n",
    "\n",
    "if __name__ == '__main__':\n",
    "    results = []\n",
    "    def compute():\n",
    "        results.append(sum([random.randint(1,100) for i in range(1000000)]))\n",
    "    workers = [threading.Thread(target=compute) for x in range(8)]\n",
    "    \n",
    "    for worker in workers: \n",
    "        worker.start()\n",
    "    for worker in workers: \n",
    "        worker.join()\n",
    "    print(\"Results: %s\" % results)"
   ]
  },
  {
   "cell_type": "code",
   "execution_count": null,
   "id": "63f1cf24",
   "metadata": {},
   "outputs": [],
   "source": [
    "$>/usr/bin/time python ch11/multithread.py \n",
    "Results: [50493197, 50521691, 50479554, 50504657, 50524166, 50483934, 50520410, 50473516]\n",
    "    \n",
    "5.94 user 0.02 system 0:05.91 elapsed 100%CPU    # 100% CPU"
   ]
  },
  {
   "cell_type": "markdown",
   "id": "8d9794be",
   "metadata": {},
   "source": [
    "### 멀티프로세스로 병렬 효과 극대화"
   ]
  },
  {
   "cell_type": "code",
   "execution_count": 4,
   "id": "0d335b74",
   "metadata": {},
   "outputs": [
    {
     "name": "stdout",
     "output_type": "stream",
     "text": [
      "Overwriting ch11/multiprocess.py\n"
     ]
    }
   ],
   "source": [
    "%%writefile ch11/multiprocess.py\n",
    "import random\n",
    "import multiprocessing\n",
    "\n",
    "if __name__ == '__main__':\n",
    "\n",
    "    def compute(n):\n",
    "        return sum([random.randint(1,100) for i in range(1000000)])\n",
    "    pool = multiprocessing.Pool(processes=8)\n",
    "    results = pool.map(compute, range(8))\n",
    "    \n",
    "    print(\"Results: %s\" % results)"
   ]
  },
  {
   "cell_type": "code",
   "execution_count": null,
   "id": "854633c0",
   "metadata": {},
   "outputs": [],
   "source": [
    "$> /usr/bin/time python ch11/multiprocess.py \n",
    "Results: [50484952, 50476807, 50554903, 50493749, 50491296, 50478998, 50548086, 50498540]\n",
    "6.64 user 0.01 system 0:01.24 elapsed 536%CPU  # 약 6개의  CPU 사용"
   ]
  },
  {
   "cell_type": "markdown",
   "id": "243fef2b",
   "metadata": {},
   "source": [
    "## asyncio를 이용한 이벤트 반응형 아키텍쳐"
   ]
  },
  {
   "cell_type": "code",
   "execution_count": 1,
   "id": "14ec3adb",
   "metadata": {},
   "outputs": [
    {
     "ename": "RuntimeError",
     "evalue": "This event loop is already running",
     "output_type": "error",
     "traceback": [
      "\u001b[0;31m---------------------------------------------------------------------------\u001b[0m",
      "\u001b[0;31mRuntimeError\u001b[0m                              Traceback (most recent call last)",
      "\u001b[0;32m<ipython-input-1-ba243a1e10ed>\u001b[0m in \u001b[0;36m<module>\u001b[0;34m()\u001b[0m\n\u001b[1;32m      9\u001b[0m \u001b[0mloop\u001b[0m \u001b[0;34m=\u001b[0m \u001b[0masyncio\u001b[0m\u001b[0;34m.\u001b[0m\u001b[0mget_event_loop\u001b[0m\u001b[0;34m(\u001b[0m\u001b[0;34m)\u001b[0m\u001b[0;34m\u001b[0m\u001b[0;34m\u001b[0m\u001b[0m\n\u001b[1;32m     10\u001b[0m \u001b[0mcoroutines\u001b[0m \u001b[0;34m=\u001b[0m \u001b[0;34m[\u001b[0m\u001b[0mget\u001b[0m\u001b[0;34m(\u001b[0m\u001b[0;34m'http://example.com'\u001b[0m\u001b[0;34m)\u001b[0m \u001b[0;32mfor\u001b[0m \u001b[0m_\u001b[0m \u001b[0;32min\u001b[0m \u001b[0mrange\u001b[0m\u001b[0;34m(\u001b[0m\u001b[0;36m8\u001b[0m\u001b[0;34m)\u001b[0m\u001b[0;34m]\u001b[0m\u001b[0;34m\u001b[0m\u001b[0;34m\u001b[0m\u001b[0m\n\u001b[0;32m---> 11\u001b[0;31m \u001b[0mresults\u001b[0m \u001b[0;34m=\u001b[0m \u001b[0mloop\u001b[0m\u001b[0;34m.\u001b[0m\u001b[0mrun_until_complete\u001b[0m\u001b[0;34m(\u001b[0m\u001b[0masyncio\u001b[0m\u001b[0;34m.\u001b[0m\u001b[0mgather\u001b[0m\u001b[0;34m(\u001b[0m\u001b[0;34m*\u001b[0m\u001b[0mcoroutines\u001b[0m\u001b[0;34m)\u001b[0m\u001b[0;34m)\u001b[0m\u001b[0;34m\u001b[0m\u001b[0;34m\u001b[0m\u001b[0m\n\u001b[0m\u001b[1;32m     12\u001b[0m \u001b[0;34m\u001b[0m\u001b[0m\n\u001b[1;32m     13\u001b[0m \u001b[0mprint\u001b[0m\u001b[0;34m(\u001b[0m\u001b[0;34m\"Results: %s\"\u001b[0m \u001b[0;34m%\u001b[0m \u001b[0mresults\u001b[0m\u001b[0;34m)\u001b[0m\u001b[0;34m\u001b[0m\u001b[0;34m\u001b[0m\u001b[0m\n",
      "\u001b[0;32m/home/hoondori/anaconda3/envs/ai/lib/python3.6/asyncio/base_events.py\u001b[0m in \u001b[0;36mrun_until_complete\u001b[0;34m(self, future)\u001b[0m\n\u001b[1;32m    473\u001b[0m         \u001b[0mfuture\u001b[0m\u001b[0;34m.\u001b[0m\u001b[0madd_done_callback\u001b[0m\u001b[0;34m(\u001b[0m\u001b[0m_run_until_complete_cb\u001b[0m\u001b[0;34m)\u001b[0m\u001b[0;34m\u001b[0m\u001b[0;34m\u001b[0m\u001b[0m\n\u001b[1;32m    474\u001b[0m         \u001b[0;32mtry\u001b[0m\u001b[0;34m:\u001b[0m\u001b[0;34m\u001b[0m\u001b[0;34m\u001b[0m\u001b[0m\n\u001b[0;32m--> 475\u001b[0;31m             \u001b[0mself\u001b[0m\u001b[0;34m.\u001b[0m\u001b[0mrun_forever\u001b[0m\u001b[0;34m(\u001b[0m\u001b[0;34m)\u001b[0m\u001b[0;34m\u001b[0m\u001b[0;34m\u001b[0m\u001b[0m\n\u001b[0m\u001b[1;32m    476\u001b[0m         \u001b[0;32mexcept\u001b[0m\u001b[0;34m:\u001b[0m\u001b[0;34m\u001b[0m\u001b[0;34m\u001b[0m\u001b[0m\n\u001b[1;32m    477\u001b[0m             \u001b[0;32mif\u001b[0m \u001b[0mnew_task\u001b[0m \u001b[0;32mand\u001b[0m \u001b[0mfuture\u001b[0m\u001b[0;34m.\u001b[0m\u001b[0mdone\u001b[0m\u001b[0;34m(\u001b[0m\u001b[0;34m)\u001b[0m \u001b[0;32mand\u001b[0m \u001b[0;32mnot\u001b[0m \u001b[0mfuture\u001b[0m\u001b[0;34m.\u001b[0m\u001b[0mcancelled\u001b[0m\u001b[0;34m(\u001b[0m\u001b[0;34m)\u001b[0m\u001b[0;34m:\u001b[0m\u001b[0;34m\u001b[0m\u001b[0;34m\u001b[0m\u001b[0m\n",
      "\u001b[0;32m/home/hoondori/anaconda3/envs/ai/lib/python3.6/asyncio/base_events.py\u001b[0m in \u001b[0;36mrun_forever\u001b[0;34m(self)\u001b[0m\n\u001b[1;32m    427\u001b[0m         \u001b[0mself\u001b[0m\u001b[0;34m.\u001b[0m\u001b[0m_check_closed\u001b[0m\u001b[0;34m(\u001b[0m\u001b[0;34m)\u001b[0m\u001b[0;34m\u001b[0m\u001b[0;34m\u001b[0m\u001b[0m\n\u001b[1;32m    428\u001b[0m         \u001b[0;32mif\u001b[0m \u001b[0mself\u001b[0m\u001b[0;34m.\u001b[0m\u001b[0mis_running\u001b[0m\u001b[0;34m(\u001b[0m\u001b[0;34m)\u001b[0m\u001b[0;34m:\u001b[0m\u001b[0;34m\u001b[0m\u001b[0;34m\u001b[0m\u001b[0m\n\u001b[0;32m--> 429\u001b[0;31m             \u001b[0;32mraise\u001b[0m \u001b[0mRuntimeError\u001b[0m\u001b[0;34m(\u001b[0m\u001b[0;34m'This event loop is already running'\u001b[0m\u001b[0;34m)\u001b[0m\u001b[0;34m\u001b[0m\u001b[0;34m\u001b[0m\u001b[0m\n\u001b[0m\u001b[1;32m    430\u001b[0m         \u001b[0;32mif\u001b[0m \u001b[0mevents\u001b[0m\u001b[0;34m.\u001b[0m\u001b[0m_get_running_loop\u001b[0m\u001b[0;34m(\u001b[0m\u001b[0;34m)\u001b[0m \u001b[0;32mis\u001b[0m \u001b[0;32mnot\u001b[0m \u001b[0;32mNone\u001b[0m\u001b[0;34m:\u001b[0m\u001b[0;34m\u001b[0m\u001b[0;34m\u001b[0m\u001b[0m\n\u001b[1;32m    431\u001b[0m             raise RuntimeError(\n",
      "\u001b[0;31mRuntimeError\u001b[0m: This event loop is already running"
     ]
    }
   ],
   "source": [
    "import aiohttp\n",
    "import asyncio\n",
    "\n",
    "async def get(url):\n",
    "    async with aiohttp.ClientSession() as session:\n",
    "        async with session.get(url) as response:\n",
    "            return response\n",
    "\n",
    "loop = asyncio.get_event_loop()\n",
    "coroutines = [get('http://example.com') for _ in range(8)]\n",
    "results = loop.run_until_complete(asyncio.gather(*coroutines))\n",
    "\n",
    "print(\"Results: %s\" % results)"
   ]
  },
  {
   "cell_type": "markdown",
   "id": "06339447",
   "metadata": {},
   "source": [
    "## 서비스 지향 아키텍쳐 "
   ]
  },
  {
   "cell_type": "code",
   "execution_count": 2,
   "id": "136e51d0",
   "metadata": {},
   "outputs": [
    {
     "name": "stdout",
     "output_type": "stream",
     "text": [
      "Results: [50459386, 50510083, 50555825, 50509112, 50498972, 50464487, 50524045, 50550262]\n"
     ]
    }
   ],
   "source": [
    "import multiprocessing\n",
    "import random\n",
    "import zmq\n",
    "\n",
    "def compute():\n",
    "    return sum([random.randint(1,100) for i in range(1000000)])\n",
    "               \n",
    "def worker():\n",
    "    context = zmq.Context()\n",
    "    work_receiver = context.socket(zmq.PULL)\n",
    "    work_receiver.connect(\"tcp://0.0.0.0:15555\")\n",
    "    result_sender = context.socket(zmq.PUSH)\n",
    "    result_sender.connect(\"tcp://0.0.0.0:15556\")\n",
    "    poller = zmq.Poller()\n",
    "    poller.register(work_receiver, zmq.POLLIN)\n",
    "    \n",
    "    while True:\n",
    "        socks = dict(poller.poll())\n",
    "        if socks.get(work_receiver) == zmq.POLLIN:\n",
    "            obj = work_receiver.recv_pyobj()\n",
    "            result_sender.send_pyobj(obj())\n",
    "\n",
    "context = zmq.Context()\n",
    "\n",
    "# 작업이 보내질 채널\n",
    "work_sender = context.socket(zmq.PUSH)\n",
    "work_sender.bind(\"tcp://0.0.0.0:15555\")\n",
    "\n",
    "# 작업 결과를 받는 채널\n",
    "result_receiver = context.socket(zmq.PULL)\n",
    "result_receiver.bind(\"tcp://0.0.0.0:15556\")\n",
    "\n",
    "# 작업자 8개 시작\n",
    "processes = []\n",
    "for i in range(8):\n",
    "    p = multiprocessing.Process(target=worker)\n",
    "    p.start()\n",
    "    processes.append(p)\n",
    "    \n",
    "# 8개 작업 전송\n",
    "for x in range(8):\n",
    "    work_sender.send_pyobj(compute)\n",
    "    \n",
    "# 8개 결과 읽음\n",
    "results = []\n",
    "for x in range(8):\n",
    "    results.append(result_receiver.recv_pyobj())\n",
    "    \n",
    "# 프로세스 종료\n",
    "for p in processes:\n",
    "    p.terminate()\n",
    "print('Results: %s' % results)\n"
   ]
  },
  {
   "cell_type": "code",
   "execution_count": null,
   "id": "31be00e1",
   "metadata": {},
   "outputs": [],
   "source": []
  },
  {
   "cell_type": "code",
   "execution_count": null,
   "id": "9b658328",
   "metadata": {},
   "outputs": [],
   "source": []
  },
  {
   "cell_type": "code",
   "execution_count": null,
   "id": "4e28595c",
   "metadata": {},
   "outputs": [],
   "source": []
  },
  {
   "cell_type": "code",
   "execution_count": null,
   "id": "11b8136b",
   "metadata": {},
   "outputs": [],
   "source": []
  },
  {
   "cell_type": "code",
   "execution_count": null,
   "id": "b47b6475",
   "metadata": {},
   "outputs": [],
   "source": []
  }
 ],
 "metadata": {
  "kernelspec": {
   "display_name": "Python (ai2)",
   "language": "python",
   "name": "ai"
  },
  "language_info": {
   "codemirror_mode": {
    "name": "ipython",
    "version": 3
   },
   "file_extension": ".py",
   "mimetype": "text/x-python",
   "name": "python",
   "nbconvert_exporter": "python",
   "pygments_lexer": "ipython3",
   "version": "3.6.12"
  },
  "toc": {
   "base_numbering": 1,
   "nav_menu": {},
   "number_sections": true,
   "sideBar": true,
   "skip_h1_title": false,
   "title_cell": "Table of Contents",
   "title_sidebar": "Contents",
   "toc_cell": false,
   "toc_position": {},
   "toc_section_display": true,
   "toc_window_display": false
  }
 },
 "nbformat": 4,
 "nbformat_minor": 5
}
