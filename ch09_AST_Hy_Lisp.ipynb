{
 "cells": [
  {
   "cell_type": "markdown",
   "id": "efbb48b2",
   "metadata": {},
   "source": [
    "# ch09_AST_Hy_Lisp"
   ]
  },
  {
   "cell_type": "markdown",
   "id": "ac6a5d23",
   "metadata": {},
   "source": [
    "## AST 덤프"
   ]
  },
  {
   "cell_type": "code",
   "execution_count": 1,
   "id": "1cfd309d",
   "metadata": {},
   "outputs": [
    {
     "data": {
      "text/plain": [
       "\"Module(body=[Assign(targets=[Name(id='x', ctx=Store())], value=Num(n=42))])\""
      ]
     },
     "execution_count": 1,
     "metadata": {},
     "output_type": "execute_result"
    }
   ],
   "source": [
    "import ast\n",
    "ast.dump(ast.parse(\"x = 42\"))"
   ]
  },
  {
   "cell_type": "markdown",
   "id": "400a0e19",
   "metadata": {},
   "source": [
    "## 컴파일하고 실행하기"
   ]
  },
  {
   "cell_type": "code",
   "execution_count": 2,
   "id": "b71da085",
   "metadata": {},
   "outputs": [
    {
     "ename": "NameError",
     "evalue": "name 'babo' is not defined",
     "output_type": "error",
     "traceback": [
      "\u001b[0;31m---------------------------------------------------------------------------\u001b[0m",
      "\u001b[0;31mNameError\u001b[0m                                 Traceback (most recent call last)",
      "\u001b[0;32m<ipython-input-2-0e7b7c4ba28c>\u001b[0m in \u001b[0;36m<module>\u001b[0;34m()\u001b[0m\n\u001b[0;32m----> 1\u001b[0;31m \u001b[0mbabo\u001b[0m\u001b[0;34m\u001b[0m\u001b[0;34m\u001b[0m\u001b[0m\n\u001b[0m",
      "\u001b[0;31mNameError\u001b[0m: name 'babo' is not defined"
     ]
    }
   ],
   "source": [
    "babo"
   ]
  },
  {
   "cell_type": "code",
   "execution_count": 3,
   "id": "8962d51f",
   "metadata": {},
   "outputs": [],
   "source": [
    "code_object = compile(ast.parse(\"babo=42\"), '<input>', 'exec')\n",
    "eval(code_object)"
   ]
  },
  {
   "cell_type": "code",
   "execution_count": 4,
   "id": "0b28dfc4",
   "metadata": {},
   "outputs": [
    {
     "data": {
      "text/plain": [
       "42"
      ]
     },
     "execution_count": 4,
     "metadata": {},
     "output_type": "execute_result"
    }
   ],
   "source": [
    "babo"
   ]
  },
  {
   "cell_type": "markdown",
   "id": "54ff38d7",
   "metadata": {},
   "source": [
    "## AST로 프로그래밍하기 "
   ]
  },
  {
   "cell_type": "code",
   "execution_count": 10,
   "id": "4388beb2",
   "metadata": {},
   "outputs": [
    {
     "name": "stdout",
     "output_type": "stream",
     "text": [
      "hello world\n"
     ]
    }
   ],
   "source": [
    "# 변수\n",
    "hello_world = ast.Str(s='hello world', lineno=1, col_offset=1)\n",
    "\n",
    "# 함수 정의\n",
    "print_name = ast.Name(id='print', ctx=ast.Load(), lineno=1, col_offset=1)\n",
    "print_call = ast.Call(func=print_name, ctx=ast.Load(), args=[hello_world], keywords=[], lineno=1, col_offset=1)\n",
    "\n",
    "module = ast.Module(body=[ast.Expr(print_call, lineno=1, col_offset=1)], lineno=1, col_offset=1, type_ignores=[])\n",
    "\n",
    "code = compile(module, '', 'exec')\n",
    "eval(code)"
   ]
  },
  {
   "cell_type": "markdown",
   "id": "e702018e",
   "metadata": {},
   "source": [
    "## AST 탐색하기 -  ex) 연산자 변경"
   ]
  },
  {
   "cell_type": "code",
   "execution_count": 13,
   "id": "90c8b35d",
   "metadata": {},
   "outputs": [
    {
     "name": "stdout",
     "output_type": "stream",
     "text": [
      "Module(body=[Assign(targets=[Name(id='x', ctx=Store())], value=BinOp(left=Num(n=1), op=Div(), right=Num(n=3)))])\n",
      "0.3333333333333333\n"
     ]
    }
   ],
   "source": [
    "import ast\n",
    "\n",
    "tree = ast.parse('x = 1/3')\n",
    "ast.fix_missing_locations(tree)\n",
    "eval(compile(tree, '', 'exec'))\n",
    "print(ast.dump(tree))\n",
    "print(x)"
   ]
  },
  {
   "cell_type": "code",
   "execution_count": 15,
   "id": "41ad9619",
   "metadata": {},
   "outputs": [
    {
     "name": "stdout",
     "output_type": "stream",
     "text": [
      "Module(body=[Assign(targets=[Name(id='x', ctx=Store())], value=BinOp(left=Num(n=1), op=Add(), right=Num(n=3)))])\n",
      "4\n"
     ]
    }
   ],
   "source": [
    "class ReplaceBinOp(ast.NodeTransformer):\n",
    "    \"\"\" 모든 이진 연산자를 더하기 연산자로 교체\"\"\"\n",
    "    def visit_BinOp(self, node):\n",
    "        return ast.BinOp(left=node.left, op=ast.Add(), right=node.right)\n",
    "    \n",
    "tree = ReplaceBinOp().visit(tree)\n",
    "ast.fix_missing_locations(tree)\n",
    "eval(compile(tree, '', 'exec'))\n",
    "print(ast.dump(tree))\n",
    "print(x)"
   ]
  },
  {
   "cell_type": "markdown",
   "id": "e96e0b2d",
   "metadata": {},
   "source": [
    "## 코드 검사에 활용\n",
    "\n",
    "ex) class에 정적 선언으로 했었어야 하는 코드 발견 - 일반메소드인데 self를 사용하지 않은 경우"
   ]
  },
  {
   "cell_type": "code",
   "execution_count": 93,
   "id": "c68b3e04",
   "metadata": {},
   "outputs": [],
   "source": [
    "class Bad(object):\n",
    "    def foo(self, a):\n",
    "        return a\n",
    "    \n",
    "\n",
    "class Good_general(object):\n",
    "    def __init(v):\n",
    "        self.v = v\n",
    "    def foo(self, a):\n",
    "        return self.v + a  \n",
    "    \n",
    "class Good_static(object):\n",
    "    @staticmethod\n",
    "    def foo(a):\n",
    "        return a"
   ]
  },
  {
   "cell_type": "code",
   "execution_count": 99,
   "id": "4cf41a70",
   "metadata": {},
   "outputs": [],
   "source": [
    "\n",
    "def contain_self_arg(body_item):\n",
    "    # 정적이지 않다면 self argument 포함여부 조사\n",
    "    try:\n",
    "        first_arg = body_item.args.args[0]\n",
    "    except IndexError:\n",
    "        return False\n",
    "    \n",
    "    for func_stmt in ast.walk(body_item):\n",
    "        if(isinstance(func_stmt, ast.Name) and first_arg.arg == func_stmt.id):\n",
    "            # self 인수 사용 확인\n",
    "            print(f'\\t\\tparam= {first_arg.arg}, {func_stmt.id}')\n",
    "            return True\n",
    "    else:\n",
    "        return False\n",
    "    \n",
    "class StaticmethodChecker(object):\n",
    "    def __init__(self, tree):\n",
    "        self.tree = tree\n",
    "        \n",
    "    def run(self):\n",
    "        for stmt in ast.walk(self.tree):\n",
    "            #  클래스가 아닌 것은 무시\n",
    "            if not isinstance(stmt, ast.ClassDef):\n",
    "                #print('skip: ', stmt)\n",
    "                continue\n",
    "            \n",
    "            print(f'examine {stmt.name}')\n",
    "            \n",
    "            # 클래스이면서 메소드를 찾기 위해 클래스 맴버를 반복 탐색 \n",
    "            for body_item in stmt.body:\n",
    "                # 메소드가 아니면 넘어감\n",
    "                if not isinstance(body_item, ast.FunctionDef):\n",
    "                    #print('skip: ', body_item)\n",
    "                    continue\n",
    "            \n",
    "                # 데코레이터를 사용했는지 확인\n",
    "                if(len(body_item.decorator_list) > 0):                \n",
    "                    for decorator in body_item.decorator_list:\n",
    "                        if (isinstance(decorator, ast.Name) and decorator.id == 'staticmethod'):\n",
    "                            # 정적이라면 검사 대상이 아님\n",
    "                            print(f'\\t{body_item.name}, {decorator.id} found.. OK')\n",
    "                            break\n",
    "                        else:\n",
    "                            # 정적이지 않다면 self argument 포함여부 조사\n",
    "                            if not contain_self_arg(body_item):\n",
    "                                print(f\"\\t{body_item.name}, [ERROR] not found self\")                            \n",
    "                else:\n",
    "                    # 데코레이터가 없는 경우 \n",
    "                    if not contain_self_arg(body_item):\n",
    "                        print(f\"\\t{body_item.name}, [ERROR] not found self\")                                                            \n",
    "                                "
   ]
  },
  {
   "cell_type": "code",
   "execution_count": 100,
   "id": "1dd5d2b3",
   "metadata": {},
   "outputs": [
    {
     "name": "stdout",
     "output_type": "stream",
     "text": [
      "examine Bad\n",
      "\tfoo, [ERROR] not found self\n",
      "examine Good_general\n",
      "\t\tparam= v, v\n",
      "\t\tparam= self, self\n",
      "examine Good_static\n",
      "\tfoo, staticmethod found.. OK\n"
     ]
    }
   ],
   "source": [
    "code = \"\"\"\n",
    "class Bad(object):\n",
    "    def foo(self, a):\n",
    "        return a\n",
    "    \n",
    "class Good_general(object):\n",
    "    def __init(v):\n",
    "        self.v = v\n",
    "    def foo(self, a):\n",
    "        return self.v + a  \n",
    "    \n",
    "class Good_static(object):\n",
    "    @staticmethod\n",
    "    def foo(a):\n",
    "        return a\n",
    "\n",
    "\"\"\"\n",
    "\n",
    "\n",
    "StaticmethodChecker(ast.parse(code)).run()"
   ]
  },
  {
   "cell_type": "markdown",
   "id": "6a8f9fdb",
   "metadata": {},
   "source": [
    "## Hy 살펴보기"
   ]
  },
  {
   "cell_type": "code",
   "execution_count": null,
   "id": "9aaff506",
   "metadata": {},
   "outputs": [],
   "source": [
    "=> (+ 1 2)\n",
    "3"
   ]
  },
  {
   "cell_type": "code",
   "execution_count": null,
   "id": "d37b96b4",
   "metadata": {},
   "outputs": [],
   "source": [
    "=> (defn hello [name]\n",
    "... (print (% \"hello world to %s\" name)))\n",
    "=> (hello \"hoondori\")\n",
    "hello world to hoondori"
   ]
  },
  {
   "cell_type": "code",
   "execution_count": null,
   "id": "e8c14c09",
   "metadata": {},
   "outputs": [],
   "source": [
    "=> (import uuid)\n",
    "=> (uuid.uuid4)\n",
    "UUID('9e211323-9dac-4871-8cd7-685dc5f8c80a')"
   ]
  }
 ],
 "metadata": {
  "kernelspec": {
   "display_name": "Python (ai2)",
   "language": "python",
   "name": "ai"
  },
  "language_info": {
   "codemirror_mode": {
    "name": "ipython",
    "version": 3
   },
   "file_extension": ".py",
   "mimetype": "text/x-python",
   "name": "python",
   "nbconvert_exporter": "python",
   "pygments_lexer": "ipython3",
   "version": "3.6.12"
  },
  "toc": {
   "base_numbering": 1,
   "nav_menu": {},
   "number_sections": true,
   "sideBar": true,
   "skip_h1_title": false,
   "title_cell": "Table of Contents",
   "title_sidebar": "Contents",
   "toc_cell": false,
   "toc_position": {},
   "toc_section_display": true,
   "toc_window_display": false
  }
 },
 "nbformat": 4,
 "nbformat_minor": 5
}
