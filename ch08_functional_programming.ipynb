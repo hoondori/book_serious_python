{
 "cells": [
  {
   "cell_type": "markdown",
   "id": "9e13ae5c",
   "metadata": {},
   "source": [
    "# 함수형 프로그래밍"
   ]
  },
  {
   "cell_type": "markdown",
   "id": "88d63a6a",
   "metadata": {},
   "source": [
    "## Generator"
   ]
  },
  {
   "cell_type": "code",
   "execution_count": 13,
   "id": "d9ea017c",
   "metadata": {},
   "outputs": [
    {
     "data": {
      "text/plain": [
       "<generator object mygenerator at 0x7f161911d6d0>"
      ]
     },
     "execution_count": 13,
     "metadata": {},
     "output_type": "execute_result"
    }
   ],
   "source": [
    "def mygenerator():\n",
    "        yield 1\n",
    "        yield 2\n",
    "g = mygenerator()\n",
    "g"
   ]
  },
  {
   "cell_type": "code",
   "execution_count": 14,
   "id": "72af90f6",
   "metadata": {},
   "outputs": [
    {
     "data": {
      "text/plain": [
       "1"
      ]
     },
     "execution_count": 14,
     "metadata": {},
     "output_type": "execute_result"
    }
   ],
   "source": [
    "next(g)"
   ]
  },
  {
   "cell_type": "code",
   "execution_count": 15,
   "id": "7e310986",
   "metadata": {},
   "outputs": [
    {
     "data": {
      "text/plain": [
       "2"
      ]
     },
     "execution_count": 15,
     "metadata": {},
     "output_type": "execute_result"
    }
   ],
   "source": [
    "next(g)"
   ]
  },
  {
   "cell_type": "code",
   "execution_count": 16,
   "id": "9d6c0e1d",
   "metadata": {},
   "outputs": [
    {
     "ename": "StopIteration",
     "evalue": "",
     "output_type": "error",
     "traceback": [
      "\u001b[0;31m---------------------------------------------------------------------------\u001b[0m",
      "\u001b[0;31mStopIteration\u001b[0m                             Traceback (most recent call last)",
      "\u001b[0;32m<ipython-input-16-e734f8aca5ac>\u001b[0m in \u001b[0;36m<module>\u001b[0;34m()\u001b[0m\n\u001b[0;32m----> 1\u001b[0;31m \u001b[0mnext\u001b[0m\u001b[0;34m(\u001b[0m\u001b[0mg\u001b[0m\u001b[0;34m)\u001b[0m\u001b[0;34m\u001b[0m\u001b[0;34m\u001b[0m\u001b[0m\n\u001b[0m",
      "\u001b[0;31mStopIteration\u001b[0m: "
     ]
    }
   ],
   "source": [
    "next(g)"
   ]
  },
  {
   "cell_type": "markdown",
   "id": "5581dcc5",
   "metadata": {},
   "source": [
    "### yield로 값 반환 및 전달"
   ]
  },
  {
   "cell_type": "code",
   "execution_count": 38,
   "id": "dc08a431",
   "metadata": {},
   "outputs": [
    {
     "data": {
      "text/plain": [
       "5"
      ]
     },
     "execution_count": 38,
     "metadata": {},
     "output_type": "execute_result"
    }
   ],
   "source": [
    "def mygenerator2(items):\n",
    "    \n",
    "    for item in items:\n",
    "        ret = yield len(item)\n",
    "g = mygenerator2(['aaaaa', 'aaaa', 'aaa', 'aa', 'a'])\n",
    "s = next(g)\n",
    "s"
   ]
  },
  {
   "cell_type": "code",
   "execution_count": 39,
   "id": "18725d67",
   "metadata": {},
   "outputs": [
    {
     "name": "stdout",
     "output_type": "stream",
     "text": [
      "send : 105, receive:4\n",
      "send : 105, receive:3\n",
      "send : 105, receive:2\n",
      "send : 105, receive:1\n"
     ]
    }
   ],
   "source": [
    "try:\n",
    "    while True:\n",
    "        sent_value = s + 100\n",
    "        receive_value = g.send(sent_value)\n",
    "        print(f'send : {sent_value}, receive:{receive_value}')\n",
    "except StopIteration:\n",
    "    pass"
   ]
  },
  {
   "cell_type": "markdown",
   "id": "1cfad245",
   "metadata": {},
   "source": [
    "### 제너레이터 검사"
   ]
  },
  {
   "cell_type": "code",
   "execution_count": 44,
   "id": "90675b59",
   "metadata": {},
   "outputs": [],
   "source": [
    "import inspect\n",
    "def mygenerator():\n",
    "        yield 1"
   ]
  },
  {
   "cell_type": "code",
   "execution_count": 45,
   "id": "82836d01",
   "metadata": {},
   "outputs": [
    {
     "data": {
      "text/plain": [
       "True"
      ]
     },
     "execution_count": 45,
     "metadata": {},
     "output_type": "execute_result"
    }
   ],
   "source": [
    "inspect.isgeneratorfunction(mygenerator)"
   ]
  },
  {
   "cell_type": "code",
   "execution_count": 47,
   "id": "42b87279",
   "metadata": {},
   "outputs": [],
   "source": [
    "g = mygenerator()"
   ]
  },
  {
   "cell_type": "code",
   "execution_count": 49,
   "id": "c88193e2",
   "metadata": {},
   "outputs": [
    {
     "data": {
      "text/plain": [
       "'GEN_CREATED'"
      ]
     },
     "execution_count": 49,
     "metadata": {},
     "output_type": "execute_result"
    }
   ],
   "source": [
    "inspect.getgeneratorstate(g)"
   ]
  },
  {
   "cell_type": "code",
   "execution_count": 50,
   "id": "302cc333",
   "metadata": {},
   "outputs": [
    {
     "data": {
      "text/plain": [
       "1"
      ]
     },
     "execution_count": 50,
     "metadata": {},
     "output_type": "execute_result"
    }
   ],
   "source": [
    "next(g)"
   ]
  },
  {
   "cell_type": "code",
   "execution_count": 51,
   "id": "56023a65",
   "metadata": {},
   "outputs": [
    {
     "data": {
      "text/plain": [
       "'GEN_SUSPENDED'"
      ]
     },
     "execution_count": 51,
     "metadata": {},
     "output_type": "execute_result"
    }
   ],
   "source": [
    "inspect.getgeneratorstate(g)"
   ]
  },
  {
   "cell_type": "code",
   "execution_count": 52,
   "id": "8fedf3e8",
   "metadata": {},
   "outputs": [
    {
     "ename": "StopIteration",
     "evalue": "",
     "output_type": "error",
     "traceback": [
      "\u001b[0;31m---------------------------------------------------------------------------\u001b[0m",
      "\u001b[0;31mStopIteration\u001b[0m                             Traceback (most recent call last)",
      "\u001b[0;32m<ipython-input-52-e734f8aca5ac>\u001b[0m in \u001b[0;36m<module>\u001b[0;34m()\u001b[0m\n\u001b[0;32m----> 1\u001b[0;31m \u001b[0mnext\u001b[0m\u001b[0;34m(\u001b[0m\u001b[0mg\u001b[0m\u001b[0;34m)\u001b[0m\u001b[0;34m\u001b[0m\u001b[0;34m\u001b[0m\u001b[0m\n\u001b[0m",
      "\u001b[0;31mStopIteration\u001b[0m: "
     ]
    }
   ],
   "source": [
    "next(g)"
   ]
  },
  {
   "cell_type": "code",
   "execution_count": 53,
   "id": "a00a4e44",
   "metadata": {},
   "outputs": [
    {
     "data": {
      "text/plain": [
       "'GEN_CLOSED'"
      ]
     },
     "execution_count": 53,
     "metadata": {},
     "output_type": "execute_result"
    }
   ],
   "source": [
    "inspect.getgeneratorstate(g)"
   ]
  },
  {
   "cell_type": "markdown",
   "id": "52722eb7",
   "metadata": {},
   "source": [
    "## 리스트 컴프리핸션"
   ]
  },
  {
   "cell_type": "code",
   "execution_count": 55,
   "id": "b8aa3328",
   "metadata": {},
   "outputs": [
    {
     "data": {
      "text/plain": [
       "['Hello', 'Hi']"
      ]
     },
     "execution_count": 55,
     "metadata": {},
     "output_type": "execute_result"
    }
   ],
   "source": [
    "[word.capitalize()  \n",
    " for line in [\"hello\", \"world\", \"hi\"]\n",
    " for word in line.split()\n",
    " if word.startswith(\"h\")]"
   ]
  },
  {
   "cell_type": "markdown",
   "id": "77e0be68",
   "metadata": {},
   "source": [
    "## 함수형"
   ]
  },
  {
   "cell_type": "code",
   "execution_count": 57,
   "id": "c7a4e1d1",
   "metadata": {},
   "outputs": [
    {
     "data": {
      "text/plain": [
       "['hellobzz', 'worldbzz']"
      ]
     },
     "execution_count": 57,
     "metadata": {},
     "output_type": "execute_result"
    }
   ],
   "source": [
    "list(map(lambda x: x+ \"bzz\", [\"hello\", \"world\"]))"
   ]
  },
  {
   "cell_type": "code",
   "execution_count": 58,
   "id": "05d88e6e",
   "metadata": {},
   "outputs": [
    {
     "data": {
      "text/plain": [
       "['hello']"
      ]
     },
     "execution_count": 58,
     "metadata": {},
     "output_type": "execute_result"
    }
   ],
   "source": [
    "list(filter(lambda x: x.startswith(\"h\"), [\"hello\", \"world\"]))"
   ]
  },
  {
   "cell_type": "code",
   "execution_count": 60,
   "id": "a42aa2a8",
   "metadata": {},
   "outputs": [
    {
     "data": {
      "text/plain": [
       "(True, True)"
      ]
     },
     "execution_count": 60,
     "metadata": {},
     "output_type": "execute_result"
    }
   ],
   "source": [
    "all(map(lambda x: x > 0, [2,3])), any(map(lambda x: x > 0, [-2,3]))"
   ]
  },
  {
   "cell_type": "code",
   "execution_count": 63,
   "id": "10526170",
   "metadata": {},
   "outputs": [
    {
     "data": {
      "text/plain": [
       "{'hello': 5, 'world': 5}"
      ]
     },
     "execution_count": 63,
     "metadata": {},
     "output_type": "execute_result"
    }
   ],
   "source": [
    "keys = [\"hello\", \"world\"]\n",
    "lengths = map(len, keys)\n",
    "dict(zip(keys, lengths))"
   ]
  },
  {
   "cell_type": "code",
   "execution_count": 65,
   "id": "75ab5927",
   "metadata": {},
   "outputs": [
    {
     "data": {
      "text/plain": [
       "1"
      ]
     },
     "execution_count": 65,
     "metadata": {},
     "output_type": "execute_result"
    }
   ],
   "source": [
    "next(filter(lambda x: x > 0, [-1, 0, 1,2,3]))   # <- list(filter...)[0]  보다 효율적 "
   ]
  },
  {
   "cell_type": "code",
   "execution_count": 71,
   "id": "b8cffa75",
   "metadata": {},
   "outputs": [
    {
     "name": "stdout",
     "output_type": "stream",
     "text": [
      "42\n",
      "1\n"
     ]
    }
   ],
   "source": [
    "# 혹은 아래처럼 first를 사용\n",
    "from first import first\n",
    "print(first([0, False, None, [], (), 42]))\n",
    "print(first([-1, 0, 1,2,3], key=lambda x: x>0))"
   ]
  },
  {
   "cell_type": "markdown",
   "id": "f9e3cb1c",
   "metadata": {},
   "source": [
    "## functools 로 lambda 대체하기"
   ]
  },
  {
   "cell_type": "code",
   "execution_count": 73,
   "id": "3624ffbf",
   "metadata": {},
   "outputs": [
    {
     "data": {
      "text/plain": [
       "2"
      ]
     },
     "execution_count": 73,
     "metadata": {},
     "output_type": "execute_result"
    }
   ],
   "source": [
    "import operator\n",
    "from first import first\n",
    "from functools import partial\n",
    "\n",
    "def gt_than_zero(number, minimum=0):\n",
    "    return number > minimum\n",
    "\n",
    "first([-1, 0, 1,2,3], key=partial(gt_than_zero, minimum=1))"
   ]
  }
 ],
 "metadata": {
  "kernelspec": {
   "display_name": "Python (ai2)",
   "language": "python",
   "name": "ai"
  },
  "language_info": {
   "codemirror_mode": {
    "name": "ipython",
    "version": 3
   },
   "file_extension": ".py",
   "mimetype": "text/x-python",
   "name": "python",
   "nbconvert_exporter": "python",
   "pygments_lexer": "ipython3",
   "version": "3.6.12"
  },
  "toc": {
   "base_numbering": 1,
   "nav_menu": {},
   "number_sections": true,
   "sideBar": true,
   "skip_h1_title": false,
   "title_cell": "Table of Contents",
   "title_sidebar": "Contents",
   "toc_cell": false,
   "toc_position": {},
   "toc_section_display": true,
   "toc_window_display": false
  }
 },
 "nbformat": 4,
 "nbformat_minor": 5
}
