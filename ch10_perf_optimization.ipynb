{
 "cells": [
  {
   "cell_type": "markdown",
   "id": "8009d44a",
   "metadata": {},
   "source": [
    "# 성능과 최적화"
   ]
  },
  {
   "cell_type": "markdown",
   "id": "504f4734",
   "metadata": {},
   "source": [
    "## dict의 키 존재 여부 확인 "
   ]
  },
  {
   "cell_type": "code",
   "execution_count": 3,
   "id": "1f82af9c",
   "metadata": {},
   "outputs": [],
   "source": [
    "## explicit하게 확인 후 insert (비효율)\n",
    "\n",
    "def get_fruit(basket, fruit):\n",
    "    try:\n",
    "        return basket[fruit]\n",
    "    except KeyError:\n",
    "        return None\n",
    "basket = {'apple':2}\n",
    "assert get_fruit(basket, 'orange') == None"
   ]
  },
  {
   "cell_type": "code",
   "execution_count": 5,
   "id": "355610c8",
   "metadata": {},
   "outputs": [
    {
     "data": {
      "text/plain": [
       "'3'"
      ]
     },
     "execution_count": 5,
     "metadata": {},
     "output_type": "execute_result"
    }
   ],
   "source": [
    "## .get 메소드 사용 (효율적)\n",
    "\n",
    "basket = {'apple':2}\n",
    "basket.get('orange', '3')    # get or else"
   ]
  },
  {
   "cell_type": "markdown",
   "id": "3d0ed18c",
   "metadata": {},
   "source": [
    "## set을 사용해서 존재여부 확인"
   ]
  },
  {
   "cell_type": "code",
   "execution_count": 6,
   "id": "d292b4fd",
   "metadata": {},
   "outputs": [
    {
     "data": {
      "text/plain": [
       "True"
      ]
     },
     "execution_count": 6,
     "metadata": {},
     "output_type": "execute_result"
    }
   ],
   "source": [
    "### list 사용 (비효율)\n",
    "\n",
    "def has_invalid_fields(fields):\n",
    "    for field in fields:\n",
    "        if field not in ['foo','bar']:\n",
    "            return True\n",
    "    return False\n",
    "\n",
    "fields = ['a','foo','b','bar','c']\n",
    "has_invalid_fields(fields)"
   ]
  },
  {
   "cell_type": "code",
   "execution_count": 9,
   "id": "04f30bd6",
   "metadata": {},
   "outputs": [
    {
     "data": {
      "text/plain": [
       "True"
      ]
     },
     "execution_count": 9,
     "metadata": {},
     "output_type": "execute_result"
    }
   ],
   "source": [
    "### set 사용 (효율적)\n",
    "\n",
    "def has_invalid_fields(fields):\n",
    "    return bool(set(fields) - set(['foo', 'bar']))\n",
    "\n",
    "fields = ['a','foo','b','bar','c']\n",
    "has_invalid_fields(fields)"
   ]
  },
  {
   "cell_type": "markdown",
   "id": "e017e3b6",
   "metadata": {},
   "source": [
    "## default dict 사용"
   ]
  },
  {
   "cell_type": "code",
   "execution_count": 10,
   "id": "3a564857",
   "metadata": {},
   "outputs": [],
   "source": [
    "import collections\n",
    "\n",
    "def add_animal(species, animal, family):\n",
    "    species[family].add(animal)\n",
    "\n",
    "species = collections.defaultdict(set)\n",
    "add_animal(species, 'cat', 'felidea')"
   ]
  },
  {
   "cell_type": "markdown",
   "id": "5d9d18e9",
   "metadata": {},
   "source": [
    "## 프로파일링으로 내부 동작 이해하기"
   ]
  },
  {
   "cell_type": "code",
   "execution_count": null,
   "id": "fa43cdbb",
   "metadata": {},
   "outputs": [],
   "source": [
    "python -m cProfile -o xxx.cprof XXX.py\n",
    "pyprof2calltree -k -i xxx.cprof "
   ]
  },
  {
   "cell_type": "markdown",
   "id": "ece30f7b",
   "metadata": {},
   "source": [
    "## dis — Disassembler for Python bytecode"
   ]
  },
  {
   "cell_type": "code",
   "execution_count": 11,
   "id": "58bd4153",
   "metadata": {},
   "outputs": [
    {
     "name": "stdout",
     "output_type": "stream",
     "text": [
      "  2           0 LOAD_CONST               1 (42)\n",
      "              2 RETURN_VALUE\n"
     ]
    }
   ],
   "source": [
    "def x():\n",
    "    return 42\n",
    "\n",
    "import dis\n",
    "dis.dis(x)"
   ]
  },
  {
   "cell_type": "code",
   "execution_count": 16,
   "id": "60da56e3",
   "metadata": {},
   "outputs": [],
   "source": [
    "abc = ('a', 'b', 'c')\n",
    "\n",
    "def concat_a_1():\n",
    "    for letter in abc:\n",
    "        abc[0] + letter\n",
    "\n",
    "def concat_a_2():\n",
    "    a = abc[0]   # 더 효율적\n",
    "    for letter in abc:\n",
    "        a + letter"
   ]
  },
  {
   "cell_type": "code",
   "execution_count": 17,
   "id": "826899a3",
   "metadata": {},
   "outputs": [
    {
     "name": "stdout",
     "output_type": "stream",
     "text": [
      "  4           0 SETUP_LOOP              24 (to 26)\n",
      "              2 LOAD_GLOBAL              0 (abc)\n",
      "              4 GET_ITER\n",
      "        >>    6 FOR_ITER                16 (to 24)\n",
      "              8 STORE_FAST               0 (letter)\n",
      "\n",
      "  5          10 LOAD_GLOBAL              0 (abc)\n",
      "             12 LOAD_CONST               1 (0)\n",
      "             14 BINARY_SUBSCR\n",
      "             16 LOAD_FAST                0 (letter)\n",
      "             18 BINARY_ADD\n",
      "             20 POP_TOP\n",
      "             22 JUMP_ABSOLUTE            6\n",
      "        >>   24 POP_BLOCK\n",
      "        >>   26 LOAD_CONST               0 (None)\n",
      "             28 RETURN_VALUE\n"
     ]
    }
   ],
   "source": [
    "dis.dis(concat_a_1)"
   ]
  },
  {
   "cell_type": "code",
   "execution_count": 18,
   "id": "9fc9b89f",
   "metadata": {},
   "outputs": [
    {
     "name": "stdout",
     "output_type": "stream",
     "text": [
      "  8           0 LOAD_GLOBAL              0 (abc)\n",
      "              2 LOAD_CONST               1 (0)\n",
      "              4 BINARY_SUBSCR\n",
      "              6 STORE_FAST               0 (a)\n",
      "\n",
      "  9           8 SETUP_LOOP              20 (to 30)\n",
      "             10 LOAD_GLOBAL              0 (abc)\n",
      "             12 GET_ITER\n",
      "        >>   14 FOR_ITER                12 (to 28)\n",
      "             16 STORE_FAST               1 (letter)\n",
      "\n",
      " 10          18 LOAD_FAST                0 (a)\n",
      "             20 LOAD_FAST                1 (letter)\n",
      "             22 BINARY_ADD\n",
      "             24 POP_TOP\n",
      "             26 JUMP_ABSOLUTE           14\n",
      "        >>   28 POP_BLOCK\n",
      "        >>   30 LOAD_CONST               0 (None)\n",
      "             32 RETURN_VALUE\n"
     ]
    }
   ],
   "source": [
    "dis.dis(concat_a_2)"
   ]
  },
  {
   "cell_type": "markdown",
   "id": "fe4736f6",
   "metadata": {},
   "source": [
    "### 함수 내의 함수 구현하면 비효율적 "
   ]
  },
  {
   "cell_type": "code",
   "execution_count": 19,
   "id": "32f21695",
   "metadata": {},
   "outputs": [],
   "source": [
    "def x():\n",
    "    def y():\n",
    "        return 42\n",
    "    return y()"
   ]
  },
  {
   "cell_type": "code",
   "execution_count": 20,
   "id": "be719249",
   "metadata": {},
   "outputs": [
    {
     "name": "stdout",
     "output_type": "stream",
     "text": [
      "  2           0 LOAD_CONST               1 (<code object y at 0x7fd05057bc90, file \"<ipython-input-19-11b7e491a2dc>\", line 2>)\n",
      "              2 LOAD_CONST               2 ('x.<locals>.y')\n",
      "              4 MAKE_FUNCTION            0\n",
      "              6 STORE_FAST               0 (y)\n",
      "\n",
      "  4           8 LOAD_FAST                0 (y)\n",
      "             10 CALL_FUNCTION            0\n",
      "             12 RETURN_VALUE\n"
     ]
    }
   ],
   "source": [
    "dis.dis(x)"
   ]
  },
  {
   "cell_type": "markdown",
   "id": "48fbd23a",
   "metadata": {},
   "source": [
    "### 함수 내의 클로저 함수인 경우는 괜찮음 "
   ]
  },
  {
   "cell_type": "code",
   "execution_count": 21,
   "id": "2e60edd2",
   "metadata": {},
   "outputs": [],
   "source": [
    "def x(a):\n",
    "    def y():\n",
    "        return a\n",
    "    return y()"
   ]
  },
  {
   "cell_type": "code",
   "execution_count": 22,
   "id": "373b9c1d",
   "metadata": {},
   "outputs": [
    {
     "name": "stdout",
     "output_type": "stream",
     "text": [
      "  2           0 LOAD_CLOSURE             0 (a)\n",
      "              2 BUILD_TUPLE              1\n",
      "              4 LOAD_CONST               1 (<code object y at 0x7fd05425a030, file \"<ipython-input-21-c8c13f2768ff>\", line 2>)\n",
      "              6 LOAD_CONST               2 ('x.<locals>.y')\n",
      "              8 MAKE_FUNCTION            8\n",
      "             10 STORE_FAST               1 (y)\n",
      "\n",
      "  4          12 LOAD_FAST                1 (y)\n",
      "             14 CALL_FUNCTION            0\n",
      "             16 RETURN_VALUE\n"
     ]
    }
   ],
   "source": [
    "dis.dis(x)"
   ]
  },
  {
   "cell_type": "markdown",
   "id": "cad3d71c",
   "metadata": {},
   "source": [
    "## 정렬된 리스트와 bisset\n",
    "\n",
    "* 탐색 시간 : O(n) => O(logN)\n",
    "* 항목을 삽입해야 하는 위치 리턴"
   ]
  },
  {
   "cell_type": "code",
   "execution_count": 38,
   "id": "06cc39c2",
   "metadata": {},
   "outputs": [
    {
     "data": {
      "text/plain": [
       "['a', 'b', 'c']"
      ]
     },
     "execution_count": 38,
     "metadata": {},
     "output_type": "execute_result"
    }
   ],
   "source": [
    "import bisect\n",
    "\n",
    "mylist = sorted(['b', 'a', 'c'])\n",
    "mylist"
   ]
  },
  {
   "cell_type": "code",
   "execution_count": 39,
   "id": "67c8cf74",
   "metadata": {},
   "outputs": [
    {
     "data": {
      "text/plain": [
       "2"
      ]
     },
     "execution_count": 39,
     "metadata": {},
     "output_type": "execute_result"
    }
   ],
   "source": [
    "bisect.bisect(mylist, 'b')   "
   ]
  },
  {
   "cell_type": "code",
   "execution_count": 40,
   "id": "fbfbdd79",
   "metadata": {},
   "outputs": [
    {
     "data": {
      "text/plain": [
       "1"
      ]
     },
     "execution_count": 40,
     "metadata": {},
     "output_type": "execute_result"
    }
   ],
   "source": [
    "bisect.bisect_left(mylist, 'b')"
   ]
  },
  {
   "cell_type": "code",
   "execution_count": 41,
   "id": "dcf1bb77",
   "metadata": {},
   "outputs": [
    {
     "data": {
      "text/plain": [
       "3"
      ]
     },
     "execution_count": 41,
     "metadata": {},
     "output_type": "execute_result"
    }
   ],
   "source": [
    "bisect.bisect(mylist, 'c')"
   ]
  },
  {
   "cell_type": "code",
   "execution_count": 42,
   "id": "be2a9de5",
   "metadata": {},
   "outputs": [
    {
     "data": {
      "text/plain": [
       "3"
      ]
     },
     "execution_count": 42,
     "metadata": {},
     "output_type": "execute_result"
    }
   ],
   "source": [
    "bisect.bisect(mylist, 'd')"
   ]
  },
  {
   "cell_type": "code",
   "execution_count": 43,
   "id": "a80f160c",
   "metadata": {},
   "outputs": [
    {
     "data": {
      "text/plain": [
       "3"
      ]
     },
     "execution_count": 43,
     "metadata": {},
     "output_type": "execute_result"
    }
   ],
   "source": [
    "bisect.bisect_left(mylist, 'd')"
   ]
  },
  {
   "cell_type": "markdown",
   "id": "1cffb442",
   "metadata": {},
   "source": [
    "## 네임드튜플과 슬롯"
   ]
  },
  {
   "cell_type": "code",
   "execution_count": 3,
   "id": "c5aefc4c",
   "metadata": {},
   "outputs": [
    {
     "data": {
      "text/plain": [
       "{'x': 1, 'y': 2, 'z': 3}"
      ]
     },
     "execution_count": 3,
     "metadata": {},
     "output_type": "execute_result"
    }
   ],
   "source": [
    "class Point(object):\n",
    "    def __init__(self, x, y):\n",
    "        self.x = x \n",
    "        self.y = y\n",
    "        \n",
    "p = Point(1,2)\n",
    "p.z = 3\n",
    "p.__dict__"
   ]
  },
  {
   "cell_type": "code",
   "execution_count": 6,
   "id": "c25508ca",
   "metadata": {},
   "outputs": [
    {
     "name": "stdout",
     "output_type": "stream",
     "text": [
      "from memory_profiler import profile \r\n",
      "class Point(object):\r\n",
      "    def __init__(self, x):\r\n",
      "        self.x = x \r\n",
      "\r\n",
      "@profile\r\n",
      "def main():\r\n",
      "    p = [Point(42) for i in range(100000)]\r\n",
      "\r\n",
      "if __name__ == \"__main__\":\r\n",
      "    main()\r\n",
      "  \r\n"
     ]
    }
   ],
   "source": [
    "# 클래스 객체는 메모리 비효율적\n",
    "\n",
    "!cat ch10/object.py"
   ]
  },
  {
   "cell_type": "code",
   "execution_count": null,
   "id": "3234f7ea",
   "metadata": {},
   "outputs": [],
   "source": [
    "$ python -m memory_profiler ch10/object.py \n",
    "Filename: ch10/object.py\n",
    "\n",
    "Line #    Mem usage    Increment  Occurences   Line Contents\n",
    "============================================================\n",
    "     6     36.9 MiB     36.9 MiB           1   @profile\n",
    "     7                                         def main():\n",
    "     8     54.3 MiB     17.4 MiB      100003       p = [Point(42) for i in range(100000)]\n"
   ]
  },
  {
   "cell_type": "code",
   "execution_count": 7,
   "id": "16eff486",
   "metadata": {},
   "outputs": [
    {
     "name": "stdout",
     "output_type": "stream",
     "text": [
      "from memory_profiler import profile \r\n",
      "class Point(object):\r\n",
      "\r\n",
      "    __slots__ = ('x', )\r\n",
      "\r\n",
      "    def __init__(self, x):\r\n",
      "        self.x = x \r\n",
      "\r\n",
      "@profile\r\n",
      "def main():\r\n",
      "    p = [Point(42) for i in range(10000)]\r\n",
      "\r\n",
      "if __name__ == \"__main__\":\r\n",
      "    main()\r\n",
      "  \r\n"
     ]
    }
   ],
   "source": [
    "# __slot__  속성 사용을 통한 메모리 절감\n",
    "\n",
    "!cat ch10/slot.py"
   ]
  },
  {
   "cell_type": "code",
   "execution_count": null,
   "id": "b6e64a1a",
   "metadata": {},
   "outputs": [],
   "source": [
    "$ python  -m memory_profiler ch10/slot.py \n",
    "Filename: ch10/slot.py\n",
    "\n",
    "Line #    Mem usage    Increment  Occurences   Line Contents\n",
    "============================================================\n",
    "     9     37.2 MiB     37.2 MiB           1   @profile\n",
    "    10                                         def main():\n",
    "    11     43.1 MiB      5.9 MiB      100003       p = [Point(42) for i in range(100000)]\n"
   ]
  },
  {
   "cell_type": "code",
   "execution_count": 8,
   "id": "33867893",
   "metadata": {},
   "outputs": [
    {
     "name": "stdout",
     "output_type": "stream",
     "text": [
      "from memory_profiler import profile \r\n",
      "import collections\r\n",
      "\r\n",
      "\r\n",
      "@profile\r\n",
      "def main():\r\n",
      "\r\n",
      "    Point = collections.namedtuple('Point', ['x'])\r\n",
      "\r\n",
      "    p = [Point(42) for i in range(10000)]\r\n",
      "\r\n",
      "if __name__ == \"__main__\":\r\n",
      "    main()\r\n",
      "  \r\n"
     ]
    }
   ],
   "source": [
    "# namedtuple을 사용한 메모리 절감 \n",
    "!cat ch10/namedtuple.py"
   ]
  },
  {
   "cell_type": "code",
   "execution_count": null,
   "id": "c3722f8b",
   "metadata": {},
   "outputs": [],
   "source": [
    "$ python  -m memory_profiler ch10/namedtuple.py \n",
    "Filename: ch10/namedtuple.py\n",
    "\n",
    "Line #    Mem usage    Increment  Occurences   Line Contents\n",
    "============================================================\n",
    "     5     37.0 MiB     37.0 MiB           1   @profile\n",
    "     6                                         def main():\n",
    "     7                                         \n",
    "     8     37.0 MiB      0.0 MiB           1       Point = collections.namedtuple('Point', ['x'])\n",
    "     9                                         \n",
    "    10     44.3 MiB      7.4 MiB      100003       p = [Point(42) for i in range(100000)]\n"
   ]
  },
  {
   "cell_type": "markdown",
   "id": "5df8d674",
   "metadata": {},
   "source": [
    "## 메모이제이션 \n",
    "\n",
    "* https://docs.python.org/3/library/functools.html"
   ]
  },
  {
   "cell_type": "code",
   "execution_count": 11,
   "id": "7f35b8d4",
   "metadata": {},
   "outputs": [],
   "source": [
    "# 순수 함수일 경우에만 캐시\n",
    "\n",
    "import math\n",
    "_SIN_CACHE = {}\n",
    "def memoized_sin(x):\n",
    "    if x not in _SIN_CACHE:\n",
    "        _SIN_CACHE[x] = math.sin(x)\n",
    "    else:\n",
    "        print('cache hit')\n",
    "    return _SIN_CACHE[x]"
   ]
  },
  {
   "cell_type": "code",
   "execution_count": 12,
   "id": "76d8ba5c",
   "metadata": {},
   "outputs": [
    {
     "data": {
      "text/plain": [
       "0.8414709848078965"
      ]
     },
     "execution_count": 12,
     "metadata": {},
     "output_type": "execute_result"
    }
   ],
   "source": [
    "memoized_sin(1)"
   ]
  },
  {
   "cell_type": "code",
   "execution_count": 13,
   "id": "576c6d1b",
   "metadata": {},
   "outputs": [
    {
     "name": "stdout",
     "output_type": "stream",
     "text": [
      "cache hit\n"
     ]
    },
    {
     "data": {
      "text/plain": [
       "0.8414709848078965"
      ]
     },
     "execution_count": 13,
     "metadata": {},
     "output_type": "execute_result"
    }
   ],
   "source": [
    "memoized_sin(1)"
   ]
  },
  {
   "cell_type": "code",
   "execution_count": 20,
   "id": "98d95230",
   "metadata": {},
   "outputs": [],
   "source": [
    "# functools.lru_cache를 사용한 메모이제이션\n",
    "\n",
    "import functools\n",
    "import math\n",
    "@functools.lru_cache(maxsize=2)\n",
    "def memoized_sin(x):\n",
    "    return math.sin(x)"
   ]
  },
  {
   "cell_type": "code",
   "execution_count": 21,
   "id": "6c0656ad",
   "metadata": {},
   "outputs": [
    {
     "data": {
      "text/plain": [
       "0.8414709848078965"
      ]
     },
     "execution_count": 21,
     "metadata": {},
     "output_type": "execute_result"
    }
   ],
   "source": [
    "memoized_sin(1)"
   ]
  },
  {
   "cell_type": "code",
   "execution_count": 22,
   "id": "9dcf09fa",
   "metadata": {},
   "outputs": [
    {
     "data": {
      "text/plain": [
       "CacheInfo(hits=0, misses=1, maxsize=2, currsize=1)"
      ]
     },
     "execution_count": 22,
     "metadata": {},
     "output_type": "execute_result"
    }
   ],
   "source": [
    "memoized_sin.cache_info()"
   ]
  },
  {
   "cell_type": "code",
   "execution_count": 23,
   "id": "d3093d21",
   "metadata": {},
   "outputs": [
    {
     "data": {
      "text/plain": [
       "0.8414709848078965"
      ]
     },
     "execution_count": 23,
     "metadata": {},
     "output_type": "execute_result"
    }
   ],
   "source": [
    "memoized_sin(1)"
   ]
  },
  {
   "cell_type": "code",
   "execution_count": 24,
   "id": "38d5a0d8",
   "metadata": {},
   "outputs": [
    {
     "data": {
      "text/plain": [
       "CacheInfo(hits=1, misses=1, maxsize=2, currsize=1)"
      ]
     },
     "execution_count": 24,
     "metadata": {},
     "output_type": "execute_result"
    }
   ],
   "source": [
    "memoized_sin.cache_info()"
   ]
  },
  {
   "cell_type": "code",
   "execution_count": 25,
   "id": "e614f5ce",
   "metadata": {},
   "outputs": [],
   "source": [
    "memoized_sin.cache_clear()"
   ]
  },
  {
   "cell_type": "code",
   "execution_count": 26,
   "id": "50294e12",
   "metadata": {},
   "outputs": [
    {
     "data": {
      "text/plain": [
       "CacheInfo(hits=0, misses=0, maxsize=2, currsize=0)"
      ]
     },
     "execution_count": 26,
     "metadata": {},
     "output_type": "execute_result"
    }
   ],
   "source": [
    "memoized_sin.cache_info()"
   ]
  },
  {
   "cell_type": "markdown",
   "id": "9cca1ee5",
   "metadata": {},
   "source": [
    "## 버퍼 프로토콜로 제로 복사하기 \n",
    "\n",
    "* memoryview"
   ]
  },
  {
   "cell_type": "code",
   "execution_count": 34,
   "id": "8453b32a",
   "metadata": {},
   "outputs": [
    {
     "name": "stdout",
     "output_type": "stream",
     "text": [
      "Overwriting ch10/memscript.py\n"
     ]
    }
   ],
   "source": [
    "%%writefile ch10/memscript.py\n",
    "\n",
    "from memory_profiler import profile \n",
    "\n",
    "@profile\n",
    "def read_random():\n",
    "    with open('/dev/urandom', 'rb') as source:\n",
    "        content = source.read(1024*10000)\n",
    "        content_to_write = content[1024:]   # <--- 실제는 복사\n",
    "    print('Content length: %d, content to write length: %d' % (len(content), len(content_to_write)))\n",
    "    \n",
    "    with open('/dev/null', 'wb') as target:\n",
    "        target.write(content_to_write)\n",
    "        \n",
    "if __name__ == \"__main__\":\n",
    "    read_random()        "
   ]
  },
  {
   "cell_type": "code",
   "execution_count": null,
   "id": "2eb48b4a",
   "metadata": {},
   "outputs": [],
   "source": [
    "$> python -m memory_profiler ch10/memscript.py \n",
    "Content length: 10240000, content to write length: 10238976\n",
    "Filename: ch10/memscript.py\n",
    "\n",
    "Line #    Mem usage    Increment  Occurences   Line Contents\n",
    "============================================================\n",
    "     4     37.0 MiB     37.0 MiB           1   @profile\n",
    "     5                                         def read_random():\n",
    "     6     37.0 MiB      0.0 MiB           1       with open('/dev/urandom', 'rb') as source:\n",
    "     7     46.5 MiB      9.5 MiB           1           content = source.read(1024*10000)\n",
    "     8     56.3 MiB      9.8 MiB           1           content_to_write = content[1024:]   # <--- 실제는 복사\n",
    "                 ...."
   ]
  },
  {
   "cell_type": "markdown",
   "id": "b16d09d7",
   "metadata": {},
   "source": [
    "### memoryview로 연속 메모리 공간으로 옮긴 후 기본 포인터 연산으로 제로 복사 \n"
   ]
  },
  {
   "cell_type": "code",
   "execution_count": 35,
   "id": "2ff5a370",
   "metadata": {},
   "outputs": [],
   "source": [
    "s = b'abcdefgh'\n",
    "view = memoryview(s)"
   ]
  },
  {
   "cell_type": "code",
   "execution_count": 36,
   "id": "27a07108",
   "metadata": {},
   "outputs": [
    {
     "data": {
      "text/plain": [
       "98"
      ]
     },
     "execution_count": 36,
     "metadata": {},
     "output_type": "execute_result"
    }
   ],
   "source": [
    "view[1]"
   ]
  },
  {
   "cell_type": "code",
   "execution_count": 37,
   "id": "b6cf91ad",
   "metadata": {},
   "outputs": [
    {
     "data": {
      "text/plain": [
       "<memory at 0x7fbecd7717c8>"
      ]
     },
     "execution_count": 37,
     "metadata": {},
     "output_type": "execute_result"
    }
   ],
   "source": [
    "limited = view[1:3]\n",
    "limited"
   ]
  },
  {
   "cell_type": "code",
   "execution_count": 39,
   "id": "a8495e06",
   "metadata": {},
   "outputs": [
    {
     "data": {
      "text/plain": [
       "b'bc'"
      ]
     },
     "execution_count": 39,
     "metadata": {},
     "output_type": "execute_result"
    }
   ],
   "source": [
    "bytes(limited)"
   ]
  },
  {
   "cell_type": "code",
   "execution_count": 40,
   "id": "c7d9f4d7",
   "metadata": {},
   "outputs": [
    {
     "name": "stdout",
     "output_type": "stream",
     "text": [
      "Writing ch10/copy-memoryview.py\n"
     ]
    }
   ],
   "source": [
    "%%writefile ch10/copy-memoryview.py\n",
    "\n",
    "from memory_profiler import profile \n",
    "\n",
    "@profile\n",
    "def read_random():\n",
    "    with open('/dev/urandom', 'rb') as source:\n",
    "        content = source.read(1024*10000)\n",
    "        content_to_write = memoryview(content)[1024:]   # <--- 제로 복사\n",
    "    print('Content length: %d, content to write length: %d' % (len(content), len(content_to_write)))\n",
    "    \n",
    "    with open('/dev/null', 'wb') as target:\n",
    "        target.write(content_to_write)\n",
    "        \n",
    "if __name__ == \"__main__\":\n",
    "    read_random()      "
   ]
  },
  {
   "cell_type": "code",
   "execution_count": null,
   "id": "f2f1cf7c",
   "metadata": {},
   "outputs": [],
   "source": [
    "$> python -m memory_profiler ch10/copy-memoryview.py\n",
    "Content length: 10240000, content to write length: 10238976\n",
    "Filename: ch10/copy-memoryview.py\n",
    "\n",
    "Line #    Mem usage    Increment  Occurences   Line Contents\n",
    "============================================================\n",
    "     4     37.0 MiB     37.0 MiB           1   @profile\n",
    "     5                                         def read_random():\n",
    "     6     37.0 MiB      0.0 MiB           1       with open('/dev/urandom', 'rb') as source:\n",
    "     7     46.5 MiB      9.5 MiB           1           content = source.read(1024*10000)\n",
    "     8     46.5 MiB      0.0 MiB           1           content_to_write = memoryview(content)[1024:]   # <--- 제로 복사\n",
    "                      ......"
   ]
  },
  {
   "cell_type": "code",
   "execution_count": 45,
   "id": "817f785f",
   "metadata": {},
   "outputs": [
    {
     "name": "stdout",
     "output_type": "stream",
     "text": [
      "Writing ch10/bytearray.py\n"
     ]
    }
   ],
   "source": [
    "%%writefile ch10/bytearray.py\n",
    "\n",
    "from memory_profiler import profile \n",
    "\n",
    "@profile\n",
    "def read_random():\n",
    "    ba = bytearray(1024*10000)\n",
    "    ba_at_1024 = memoryview(ba)[1024:]\n",
    "    \n",
    "    with open('/dev/urandom', 'rb') as source:\n",
    "        source.readinto(ba_at_1024)\n",
    "        content = ba\n",
    "        content_to_write = ba_at_1024   # <--- 제로 복사\n",
    "    print('Content length: %d, content to write length: %d' % (len(content), len(content_to_write)))\n",
    "    \n",
    "    with open('/dev/null', 'wb') as target:\n",
    "        target.write(content_to_write)\n",
    "        \n",
    "if __name__ == \"__main__\":\n",
    "    read_random()  "
   ]
  },
  {
   "cell_type": "code",
   "execution_count": null,
   "id": "65918f68",
   "metadata": {},
   "outputs": [],
   "source": [
    "$> python -m memory_profiler ch10/bytearray.py\n",
    "Content length: 10240000, content to write length: 10238976\n",
    "Filename: ch10/bytearray.py\n",
    "\n",
    "Line #    Mem usage    Increment  Occurences   Line Contents\n",
    "============================================================\n",
    "     4     36.9 MiB     36.9 MiB           1   @profile\n",
    "     5                                         def read_random():\n",
    "     6     46.5 MiB      9.5 MiB           1       ba = bytearray(1024*10000)\n",
    "     7     46.5 MiB      0.0 MiB           1       ba_at_1024 = memoryview(ba)[1024:]\n",
    "     8                                             \n",
    "     9     46.5 MiB      0.0 MiB           1       with open('/dev/urandom', 'rb') as source:\n",
    "    10     46.5 MiB      0.0 MiB           1           source.readinto(ba_at_1024)\n",
    "    11     46.5 MiB      0.0 MiB           1           content = ba\n",
    "    12     46.5 MiB      0.0 MiB           1           content_to_write = ba_at_1024   # <--- 제로 복사\n",
    "                  .........  "
   ]
  }
 ],
 "metadata": {
  "kernelspec": {
   "display_name": "Python (ai2)",
   "language": "python",
   "name": "ai"
  },
  "language_info": {
   "codemirror_mode": {
    "name": "ipython",
    "version": 3
   },
   "file_extension": ".py",
   "mimetype": "text/x-python",
   "name": "python",
   "nbconvert_exporter": "python",
   "pygments_lexer": "ipython3",
   "version": "3.6.12"
  },
  "toc": {
   "base_numbering": 1,
   "nav_menu": {},
   "number_sections": true,
   "sideBar": true,
   "skip_h1_title": false,
   "title_cell": "Table of Contents",
   "title_sidebar": "Contents",
   "toc_cell": false,
   "toc_position": {},
   "toc_section_display": true,
   "toc_window_display": false
  }
 },
 "nbformat": 4,
 "nbformat_minor": 5
}
