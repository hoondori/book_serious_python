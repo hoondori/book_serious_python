{
 "cells": [
  {
   "cell_type": "markdown",
   "id": "a5dafa53",
   "metadata": {},
   "source": [
    "# 메소드와 데커레이터"
   ]
  },
  {
   "cell_type": "markdown",
   "id": "1daf2922",
   "metadata": {},
   "source": [
    "## 간단한 데커레이터 예시"
   ]
  },
  {
   "cell_type": "code",
   "execution_count": 20,
   "id": "f9e641df",
   "metadata": {},
   "outputs": [
    {
     "ename": "Exception",
     "evalue": "This is not admin",
     "output_type": "error",
     "traceback": [
      "\u001b[0;31m---------------------------------------------------------------------------\u001b[0m",
      "\u001b[0;31mException\u001b[0m                                 Traceback (most recent call last)",
      "\u001b[0;32m<ipython-input-20-30ce6d43c71b>\u001b[0m in \u001b[0;36m<module>\u001b[0;34m()\u001b[0m\n\u001b[1;32m     14\u001b[0m         \u001b[0;32mreturn\u001b[0m \u001b[0;32mNone\u001b[0m\u001b[0;34m\u001b[0m\u001b[0;34m\u001b[0m\u001b[0m\n\u001b[1;32m     15\u001b[0m \u001b[0;34m\u001b[0m\u001b[0m\n\u001b[0;32m---> 16\u001b[0;31m \u001b[0mStore\u001b[0m\u001b[0;34m(\u001b[0m\u001b[0;34m)\u001b[0m\u001b[0;34m.\u001b[0m\u001b[0mset_food\u001b[0m\u001b[0;34m(\u001b[0m\u001b[0;34m\"user\"\u001b[0m\u001b[0;34m,\u001b[0m \u001b[0;34m\"lemon\"\u001b[0m\u001b[0;34m)\u001b[0m\u001b[0;34m\u001b[0m\u001b[0;34m\u001b[0m\u001b[0m\n\u001b[0m",
      "\u001b[0;32m<ipython-input-20-30ce6d43c71b>\u001b[0m in \u001b[0;36mwrapper\u001b[0;34m(*args, **kwargs)\u001b[0m\n\u001b[1;32m      3\u001b[0m     \u001b[0;32mdef\u001b[0m \u001b[0mwrapper\u001b[0m\u001b[0;34m(\u001b[0m\u001b[0;34m*\u001b[0m\u001b[0margs\u001b[0m\u001b[0;34m,\u001b[0m \u001b[0;34m**\u001b[0m\u001b[0mkwargs\u001b[0m\u001b[0;34m)\u001b[0m\u001b[0;34m:\u001b[0m\u001b[0;34m\u001b[0m\u001b[0;34m\u001b[0m\u001b[0m\n\u001b[1;32m      4\u001b[0m         \u001b[0;32mif\u001b[0m \u001b[0mkwargs\u001b[0m\u001b[0;34m.\u001b[0m\u001b[0mget\u001b[0m\u001b[0;34m(\u001b[0m\u001b[0;34m'username'\u001b[0m\u001b[0;34m)\u001b[0m \u001b[0;34m!=\u001b[0m \u001b[0;34m'admin'\u001b[0m\u001b[0;34m:\u001b[0m\u001b[0;34m\u001b[0m\u001b[0;34m\u001b[0m\u001b[0m\n\u001b[0;32m----> 5\u001b[0;31m             \u001b[0;32mraise\u001b[0m \u001b[0mException\u001b[0m\u001b[0;34m(\u001b[0m\u001b[0;34m\"This is not admin\"\u001b[0m\u001b[0;34m)\u001b[0m\u001b[0;34m\u001b[0m\u001b[0;34m\u001b[0m\u001b[0m\n\u001b[0m\u001b[1;32m      6\u001b[0m         \u001b[0;32mreturn\u001b[0m \u001b[0mf\u001b[0m\u001b[0;34m(\u001b[0m\u001b[0;34m*\u001b[0m\u001b[0margs\u001b[0m\u001b[0;34m,\u001b[0m \u001b[0;34m**\u001b[0m\u001b[0mkwargs\u001b[0m\u001b[0;34m)\u001b[0m\u001b[0;34m\u001b[0m\u001b[0;34m\u001b[0m\u001b[0m\n\u001b[1;32m      7\u001b[0m     \u001b[0;32mreturn\u001b[0m \u001b[0mwrapper\u001b[0m\u001b[0;34m\u001b[0m\u001b[0;34m\u001b[0m\u001b[0m\n",
      "\u001b[0;31mException\u001b[0m: This is not admin"
     ]
    }
   ],
   "source": [
    "def check_is_admin(f):\n",
    "    \n",
    "    def wrapper(*args, **kwargs):\n",
    "        if kwargs.get('username') != 'admin':\n",
    "            raise Exception(\"This is not admin\")\n",
    "        return f(*args, **kwargs)\n",
    "    return wrapper\n",
    "    \n",
    "class Store(object):\n",
    "    \n",
    "    @check_is_admin\n",
    "    def set_food(self, username, food):\n",
    "        #check_is_admin(username)\n",
    "        return None\n",
    "\n",
    "Store().set_food(\"user\", \"lemon\")    "
   ]
  },
  {
   "cell_type": "markdown",
   "id": "2218f724",
   "metadata": {},
   "source": [
    "## 여러 데커레이터 사용하기\n",
    "* 단일 함수를 사용하여 하나 이상의 데커레이터 사용하기"
   ]
  },
  {
   "cell_type": "code",
   "execution_count": 24,
   "id": "1e3411ac",
   "metadata": {},
   "outputs": [
    {
     "ename": "Exception",
     "evalue": "this is not allowed: guest",
     "output_type": "error",
     "traceback": [
      "\u001b[0;31m---------------------------------------------------------------------------\u001b[0m",
      "\u001b[0;31mException\u001b[0m                                 Traceback (most recent call last)",
      "\u001b[0;32m<ipython-input-24-c83206533c93>\u001b[0m in \u001b[0;36m<module>\u001b[0;34m()\u001b[0m\n\u001b[1;32m     16\u001b[0m         \u001b[0;32mreturn\u001b[0m \u001b[0;32mNone\u001b[0m\u001b[0;34m\u001b[0m\u001b[0;34m\u001b[0m\u001b[0m\n\u001b[1;32m     17\u001b[0m \u001b[0;34m\u001b[0m\u001b[0m\n\u001b[0;32m---> 18\u001b[0;31m \u001b[0mStore\u001b[0m\u001b[0;34m(\u001b[0m\u001b[0;34m)\u001b[0m\u001b[0;34m.\u001b[0m\u001b[0mset_food\u001b[0m\u001b[0;34m(\u001b[0m\u001b[0;34m\"user\"\u001b[0m\u001b[0;34m,\u001b[0m \u001b[0;34m\"lemon\"\u001b[0m\u001b[0;34m)\u001b[0m\u001b[0;34m\u001b[0m\u001b[0;34m\u001b[0m\u001b[0m\n\u001b[0m",
      "\u001b[0;32m<ipython-input-24-c83206533c93>\u001b[0m in \u001b[0;36mwrapper\u001b[0;34m(*args, **kwargs)\u001b[0m\n\u001b[1;32m      3\u001b[0m         \u001b[0;32mdef\u001b[0m \u001b[0mwrapper\u001b[0m\u001b[0;34m(\u001b[0m\u001b[0;34m*\u001b[0m\u001b[0margs\u001b[0m\u001b[0;34m,\u001b[0m \u001b[0;34m**\u001b[0m\u001b[0mkwargs\u001b[0m\u001b[0;34m)\u001b[0m\u001b[0;34m:\u001b[0m\u001b[0;34m\u001b[0m\u001b[0;34m\u001b[0m\u001b[0m\n\u001b[1;32m      4\u001b[0m             \u001b[0;32mif\u001b[0m \u001b[0mkwargs\u001b[0m\u001b[0;34m.\u001b[0m\u001b[0mget\u001b[0m\u001b[0;34m(\u001b[0m\u001b[0;34m'username'\u001b[0m\u001b[0;34m)\u001b[0m \u001b[0;34m!=\u001b[0m \u001b[0musername\u001b[0m\u001b[0;34m:\u001b[0m\u001b[0;34m\u001b[0m\u001b[0;34m\u001b[0m\u001b[0m\n\u001b[0;32m----> 5\u001b[0;31m                 \u001b[0;32mraise\u001b[0m \u001b[0mException\u001b[0m\u001b[0;34m(\u001b[0m\u001b[0;34mf'this is not allowed: {username}'\u001b[0m\u001b[0;34m)\u001b[0m\u001b[0;34m\u001b[0m\u001b[0;34m\u001b[0m\u001b[0m\n\u001b[0m\u001b[1;32m      6\u001b[0m             \u001b[0;32mreturn\u001b[0m \u001b[0mf\u001b[0m\u001b[0;34m(\u001b[0m\u001b[0;34m*\u001b[0m\u001b[0margs\u001b[0m\u001b[0;34m,\u001b[0m \u001b[0;34m**\u001b[0m\u001b[0mkwargs\u001b[0m\u001b[0;34m)\u001b[0m\u001b[0;34m\u001b[0m\u001b[0;34m\u001b[0m\u001b[0m\n\u001b[1;32m      7\u001b[0m         \u001b[0;32mreturn\u001b[0m \u001b[0mwrapper\u001b[0m\u001b[0;34m\u001b[0m\u001b[0;34m\u001b[0m\u001b[0m\n",
      "\u001b[0;31mException\u001b[0m: this is not allowed: guest"
     ]
    }
   ],
   "source": [
    "def check_user_is_not(username):\n",
    "    def user_check_decorator(f):\n",
    "        def wrapper(*args, **kwargs):\n",
    "            if kwargs.get('username') != username:\n",
    "                raise Exception(f'this is not allowed: {username}')\n",
    "            return f(*args, **kwargs)\n",
    "        return wrapper\n",
    "    return user_check_decorator\n",
    "    \n",
    "class Store(object):\n",
    "\n",
    "    @check_user_is_not(\"guest\")   # 먼저 해석 \n",
    "    @check_user_is_not(\"admin\")\n",
    "    def set_food(self, username, food):\n",
    "        #check_is_admin(username)\n",
    "        return None\n",
    "\n",
    "Store().set_food(\"user\", \"lemon\")   "
   ]
  },
  {
   "cell_type": "markdown",
   "id": "7f8974b5",
   "metadata": {},
   "source": [
    "## 클래스 데커레이터 "
   ]
  },
  {
   "cell_type": "code",
   "execution_count": 32,
   "id": "a709d078",
   "metadata": {},
   "outputs": [
    {
     "name": "stdout",
     "output_type": "stream",
     "text": [
      "<class '__main__.SomeClass'> efc10829-5056-42c5-b0e9-bcfa9912094d\n"
     ]
    }
   ],
   "source": [
    "import uuid\n",
    "\n",
    "def set_class_name_and_id(klass):\n",
    "    klass.name = str(klass)\n",
    "    klass.random_id = uuid.uuid4()\n",
    "    return klass\n",
    "\n",
    "@set_class_name_and_id\n",
    "class SomeClass(object):\n",
    "    pass\n",
    "\n",
    "print(SomeClass.name, SomeClass.random_id)"
   ]
  },
  {
   "cell_type": "markdown",
   "id": "518445b3",
   "metadata": {},
   "source": [
    "## 함수를 클래스로 래핑하기 \n",
    "* 상태 추적"
   ]
  },
  {
   "cell_type": "code",
   "execution_count": 40,
   "id": "80b13529",
   "metadata": {},
   "outputs": [],
   "source": [
    "class CountCalls(object):\n",
    "    def __init__(self, f):\n",
    "        self.f = f\n",
    "        self.called = 0\n",
    "    \n",
    "    def __call__(self, *args, **kwargs):\n",
    "        self.called += 1\n",
    "        return self.f(*args, **kwargs)\n",
    "    \n",
    "@CountCalls\n",
    "def print_hello():\n",
    "    print('hello')"
   ]
  },
  {
   "cell_type": "code",
   "execution_count": 41,
   "id": "258de0ae",
   "metadata": {},
   "outputs": [
    {
     "data": {
      "text/plain": [
       "0"
      ]
     },
     "execution_count": 41,
     "metadata": {},
     "output_type": "execute_result"
    }
   ],
   "source": [
    "print_hello.called"
   ]
  },
  {
   "cell_type": "code",
   "execution_count": 42,
   "id": "a584fcb8",
   "metadata": {},
   "outputs": [
    {
     "name": "stdout",
     "output_type": "stream",
     "text": [
      "hello\n"
     ]
    }
   ],
   "source": [
    "print_hello()"
   ]
  },
  {
   "cell_type": "code",
   "execution_count": 43,
   "id": "2497998d",
   "metadata": {},
   "outputs": [
    {
     "data": {
      "text/plain": [
       "1"
      ]
     },
     "execution_count": 43,
     "metadata": {},
     "output_type": "execute_result"
    }
   ],
   "source": [
    "print_hello.called"
   ]
  },
  {
   "cell_type": "markdown",
   "id": "d8bc5dfa",
   "metadata": {},
   "source": [
    "## update_wrapper 로 원래 속성 검색"
   ]
  },
  {
   "cell_type": "code",
   "execution_count": 45,
   "id": "b4a88fa2",
   "metadata": {},
   "outputs": [
    {
     "name": "stdout",
     "output_type": "stream",
     "text": [
      "구현할 메소드 내용 foobar\n"
     ]
    }
   ],
   "source": [
    "def foobar(username='someone'):\n",
    "    \"\"\"구현할 메소드 내용\"\"\"\n",
    "    pass\n",
    "\n",
    "print(foobar.__doc__, foobar.__name__)"
   ]
  },
  {
   "cell_type": "code",
   "execution_count": 47,
   "id": "d60df7b1",
   "metadata": {},
   "outputs": [
    {
     "name": "stdout",
     "output_type": "stream",
     "text": [
      "None wrapper\n"
     ]
    }
   ],
   "source": [
    "def check_is_admin(f):\n",
    "    def wrapper(*args, **kwargs):\n",
    "        # TODO\n",
    "        return f(*args, **kwargs)\n",
    "    return wrapper\n",
    "\n",
    "@check_is_admin\n",
    "def foobar(username='someone'):\n",
    "    \"\"\"구현할 메소드 내용\"\"\"\n",
    "    pass\n",
    "\n",
    "print(foobar.__doc__, foobar.__name__)"
   ]
  },
  {
   "cell_type": "code",
   "execution_count": 48,
   "id": "3cb3ed98",
   "metadata": {},
   "outputs": [
    {
     "name": "stdout",
     "output_type": "stream",
     "text": [
      "구현할 메소드 내용 foobar\n"
     ]
    }
   ],
   "source": [
    "import functools\n",
    "\n",
    "def check_is_admin(f):\n",
    "    @functools.wraps(f)\n",
    "    def wrapper(*args, **kwargs):\n",
    "        # TODO\n",
    "        return f(*args, **kwargs)\n",
    "    return wrapper\n",
    "\n",
    "@check_is_admin\n",
    "def foobar(username='someone'):\n",
    "    \"\"\"구현할 메소드 내용\"\"\"\n",
    "    pass\n",
    "\n",
    "print(foobar.__doc__, foobar.__name__)"
   ]
  },
  {
   "cell_type": "markdown",
   "id": "ce4a9ee1",
   "metadata": {},
   "source": [
    "## inspect를 통해 kwarg 인수도 추출/사용"
   ]
  },
  {
   "cell_type": "code",
   "execution_count": 54,
   "id": "9d630738",
   "metadata": {},
   "outputs": [
    {
     "data": {
      "text/plain": [
       "{'a': '1', 'b': '2'}"
      ]
     },
     "execution_count": 54,
     "metadata": {},
     "output_type": "execute_result"
    }
   ],
   "source": [
    "def test_func(a='1', b='2'):\n",
    "    pass \n",
    "\n",
    "func_args = inspect.getcallargs(test_func)\n",
    "func_args"
   ]
  },
  {
   "cell_type": "code",
   "execution_count": 55,
   "id": "c2573e3f",
   "metadata": {},
   "outputs": [
    {
     "name": "stdout",
     "output_type": "stream",
     "text": [
      "{'username': 'user'}\n"
     ]
    },
    {
     "ename": "Exception",
     "evalue": "This is not admin",
     "output_type": "error",
     "traceback": [
      "\u001b[0;31m---------------------------------------------------------------------------\u001b[0m",
      "\u001b[0;31mException\u001b[0m                                 Traceback (most recent call last)",
      "\u001b[0;32m<ipython-input-55-27c6df2941c7>\u001b[0m in \u001b[0;36m<module>\u001b[0;34m()\u001b[0m\n\u001b[1;32m     17\u001b[0m     \u001b[0;32mpass\u001b[0m\u001b[0;34m\u001b[0m\u001b[0;34m\u001b[0m\u001b[0m\n\u001b[1;32m     18\u001b[0m \u001b[0;34m\u001b[0m\u001b[0m\n\u001b[0;32m---> 19\u001b[0;31m \u001b[0mfoobar\u001b[0m\u001b[0;34m(\u001b[0m\u001b[0;34m'user'\u001b[0m\u001b[0;34m)\u001b[0m\u001b[0;34m\u001b[0m\u001b[0;34m\u001b[0m\u001b[0m\n\u001b[0m",
      "\u001b[0;32m<ipython-input-55-27c6df2941c7>\u001b[0m in \u001b[0;36mwrapper\u001b[0;34m(*args, **kwargs)\u001b[0m\n\u001b[1;32m      8\u001b[0m         \u001b[0mprint\u001b[0m\u001b[0;34m(\u001b[0m\u001b[0mfunc_args\u001b[0m\u001b[0;34m)\u001b[0m\u001b[0;34m\u001b[0m\u001b[0;34m\u001b[0m\u001b[0m\n\u001b[1;32m      9\u001b[0m         \u001b[0;32mif\u001b[0m \u001b[0mfunc_args\u001b[0m\u001b[0;34m.\u001b[0m\u001b[0mget\u001b[0m\u001b[0;34m(\u001b[0m\u001b[0;34m'username'\u001b[0m\u001b[0;34m)\u001b[0m \u001b[0;34m!=\u001b[0m \u001b[0;34m'admin'\u001b[0m\u001b[0;34m:\u001b[0m\u001b[0;34m\u001b[0m\u001b[0;34m\u001b[0m\u001b[0m\n\u001b[0;32m---> 10\u001b[0;31m             \u001b[0;32mraise\u001b[0m \u001b[0mException\u001b[0m\u001b[0;34m(\u001b[0m\u001b[0;34m\"This is not admin\"\u001b[0m\u001b[0;34m)\u001b[0m\u001b[0;34m\u001b[0m\u001b[0;34m\u001b[0m\u001b[0m\n\u001b[0m\u001b[1;32m     11\u001b[0m         \u001b[0;32mreturn\u001b[0m \u001b[0mf\u001b[0m\u001b[0;34m(\u001b[0m\u001b[0;34m*\u001b[0m\u001b[0margs\u001b[0m\u001b[0;34m,\u001b[0m \u001b[0;34m**\u001b[0m\u001b[0mkwargs\u001b[0m\u001b[0;34m)\u001b[0m\u001b[0;34m\u001b[0m\u001b[0;34m\u001b[0m\u001b[0m\n\u001b[1;32m     12\u001b[0m     \u001b[0;32mreturn\u001b[0m \u001b[0mwrapper\u001b[0m\u001b[0;34m\u001b[0m\u001b[0;34m\u001b[0m\u001b[0m\n",
      "\u001b[0;31mException\u001b[0m: This is not admin"
     ]
    }
   ],
   "source": [
    "import functools\n",
    "import inspect\n",
    "\n",
    "def check_is_admin(f):\n",
    "    @functools.wraps(f)\n",
    "    def wrapper(*args, **kwargs):\n",
    "        func_args = inspect.getcallargs(f, *args, **kwargs)\n",
    "        print(func_args)\n",
    "        if func_args.get('username') != 'admin':\n",
    "            raise Exception(\"This is not admin\")\n",
    "        return f(*args, **kwargs)\n",
    "    return wrapper\n",
    "\n",
    "@check_is_admin\n",
    "def foobar(username='someone'):\n",
    "    \"\"\"구현할 메소드 내용\"\"\"\n",
    "    pass \n",
    "\n",
    "foobar('user')"
   ]
  },
  {
   "cell_type": "markdown",
   "id": "92bbbe9a",
   "metadata": {},
   "source": [
    "## 파이선. bound method"
   ]
  },
  {
   "cell_type": "code",
   "execution_count": 56,
   "id": "1c465310",
   "metadata": {},
   "outputs": [],
   "source": [
    "class Pizza(object):\n",
    "    def __init__(self, size):\n",
    "        self.size = size\n",
    "    def get_size(self):\n",
    "        return self.size"
   ]
  },
  {
   "cell_type": "code",
   "execution_count": 57,
   "id": "221b3259",
   "metadata": {},
   "outputs": [
    {
     "data": {
      "text/plain": [
       "<function __main__.Pizza.get_size>"
      ]
     },
     "execution_count": 57,
     "metadata": {},
     "output_type": "execute_result"
    }
   ],
   "source": [
    "Pizza.get_size   # unbounded"
   ]
  },
  {
   "cell_type": "code",
   "execution_count": 58,
   "id": "cc8a535e",
   "metadata": {},
   "outputs": [
    {
     "ename": "TypeError",
     "evalue": "get_size() missing 1 required positional argument: 'self'",
     "output_type": "error",
     "traceback": [
      "\u001b[0;31m---------------------------------------------------------------------------\u001b[0m",
      "\u001b[0;31mTypeError\u001b[0m                                 Traceback (most recent call last)",
      "\u001b[0;32m<ipython-input-58-8f6eefb4f713>\u001b[0m in \u001b[0;36m<module>\u001b[0;34m()\u001b[0m\n\u001b[0;32m----> 1\u001b[0;31m \u001b[0mPizza\u001b[0m\u001b[0;34m.\u001b[0m\u001b[0mget_size\u001b[0m\u001b[0;34m(\u001b[0m\u001b[0;34m)\u001b[0m\u001b[0;34m\u001b[0m\u001b[0;34m\u001b[0m\u001b[0m\n\u001b[0m",
      "\u001b[0;31mTypeError\u001b[0m: get_size() missing 1 required positional argument: 'self'"
     ]
    }
   ],
   "source": [
    "Pizza.get_size()   # cannot call unbounded function"
   ]
  },
  {
   "cell_type": "code",
   "execution_count": 59,
   "id": "3d62396b",
   "metadata": {},
   "outputs": [
    {
     "data": {
      "text/plain": [
       "42"
      ]
     },
     "execution_count": 59,
     "metadata": {},
     "output_type": "execute_result"
    }
   ],
   "source": [
    "Pizza.get_size(Pizza(42))"
   ]
  },
  {
   "cell_type": "code",
   "execution_count": 60,
   "id": "8cacb637",
   "metadata": {},
   "outputs": [
    {
     "data": {
      "text/plain": [
       "<bound method Pizza.get_size of <__main__.Pizza object at 0x7f09907eac88>>"
      ]
     },
     "execution_count": 60,
     "metadata": {},
     "output_type": "execute_result"
    }
   ],
   "source": [
    "Pizza(42).get_size   # bounded method"
   ]
  },
  {
   "cell_type": "code",
   "execution_count": 61,
   "id": "a4ff8b0a",
   "metadata": {},
   "outputs": [
    {
     "data": {
      "text/plain": [
       "42"
      ]
     },
     "execution_count": 61,
     "metadata": {},
     "output_type": "execute_result"
    }
   ],
   "source": [
    "Pizza(42).get_size()"
   ]
  },
  {
   "cell_type": "markdown",
   "id": "0e717a97",
   "metadata": {},
   "source": [
    "## 정적 메소드"
   ]
  },
  {
   "cell_type": "code",
   "execution_count": 69,
   "id": "d2d446ba",
   "metadata": {},
   "outputs": [],
   "source": [
    "class Pizza(object):\n",
    "    @staticmethod\n",
    "    def mix_ingredients(x, y):\n",
    "        return x + y\n",
    "    \n",
    "    def cook_with(self, x):\n",
    "        pass"
   ]
  },
  {
   "cell_type": "code",
   "execution_count": 70,
   "id": "c72d3f8a",
   "metadata": {},
   "outputs": [
    {
     "data": {
      "text/plain": [
       "False"
      ]
     },
     "execution_count": 70,
     "metadata": {},
     "output_type": "execute_result"
    }
   ],
   "source": [
    "Pizza().cook_with is Pizza().cook_with"
   ]
  },
  {
   "cell_type": "code",
   "execution_count": 71,
   "id": "c277a7df",
   "metadata": {},
   "outputs": [
    {
     "data": {
      "text/plain": [
       "True"
      ]
     },
     "execution_count": 71,
     "metadata": {},
     "output_type": "execute_result"
    }
   ],
   "source": [
    "Pizza().mix_ingredients is Pizza().mix_ingredients"
   ]
  },
  {
   "cell_type": "code",
   "execution_count": 72,
   "id": "48bc63fd",
   "metadata": {},
   "outputs": [
    {
     "data": {
      "text/plain": [
       "True"
      ]
     },
     "execution_count": 72,
     "metadata": {},
     "output_type": "execute_result"
    }
   ],
   "source": [
    "Pizza().mix_ingredients is Pizza.mix_ingredients"
   ]
  },
  {
   "cell_type": "markdown",
   "id": "d2d42a24",
   "metadata": {},
   "source": [
    "## 클래스 메서드"
   ]
  },
  {
   "cell_type": "code",
   "execution_count": 89,
   "id": "fae58595",
   "metadata": {},
   "outputs": [],
   "source": [
    "class Pizza(object):\n",
    "    radius = 42  # 클래스에 포함\n",
    "    \n",
    "    @classmethod\n",
    "    def get_radius(cls):\n",
    "        return cls.radius"
   ]
  },
  {
   "cell_type": "code",
   "execution_count": 90,
   "id": "3e3e3ffe",
   "metadata": {},
   "outputs": [
    {
     "data": {
      "text/plain": [
       "<bound method Pizza.get_radius of <class '__main__.Pizza'>>"
      ]
     },
     "execution_count": 90,
     "metadata": {},
     "output_type": "execute_result"
    }
   ],
   "source": [
    "Pizza.get_radius"
   ]
  },
  {
   "cell_type": "code",
   "execution_count": 91,
   "id": "5be7995e",
   "metadata": {},
   "outputs": [
    {
     "data": {
      "text/plain": [
       "<bound method Pizza.get_radius of <class '__main__.Pizza'>>"
      ]
     },
     "execution_count": 91,
     "metadata": {},
     "output_type": "execute_result"
    }
   ],
   "source": [
    "Pizza().get_radius"
   ]
  },
  {
   "cell_type": "code",
   "execution_count": 92,
   "id": "d832e615",
   "metadata": {},
   "outputs": [
    {
     "data": {
      "text/plain": [
       "False"
      ]
     },
     "execution_count": 92,
     "metadata": {},
     "output_type": "execute_result"
    }
   ],
   "source": [
    "Pizza.get_radius is Pizza().get_radius"
   ]
  },
  {
   "cell_type": "code",
   "execution_count": 93,
   "id": "2ea1e3ef",
   "metadata": {},
   "outputs": [
    {
     "name": "stdout",
     "output_type": "stream",
     "text": [
      "<class '__main__.Pizza'>\n"
     ]
    },
    {
     "data": {
      "text/plain": [
       "42"
      ]
     },
     "execution_count": 93,
     "metadata": {},
     "output_type": "execute_result"
    }
   ],
   "source": [
    "Pizza().get_radius()"
   ]
  },
  {
   "cell_type": "markdown",
   "id": "6d392a47",
   "metadata": {},
   "source": [
    "## 클래스 메소드를 이용한 Factory 패턴"
   ]
  },
  {
   "cell_type": "code",
   "execution_count": 101,
   "id": "15a3a1fd",
   "metadata": {},
   "outputs": [
    {
     "name": "stdout",
     "output_type": "stream",
     "text": [
      "cheesevegetable\n"
     ]
    }
   ],
   "source": [
    "class Fridge(object):\n",
    "    def __init__(self, cheese, vegetable):\n",
    "        self.cheese = cheese\n",
    "        self.vegetable = vegetable\n",
    "\n",
    "class Pizza(object):\n",
    "    \n",
    "    def __init__(self, ingradients):\n",
    "        self.ingradients = ingradients\n",
    "        \n",
    "    def cook(self):\n",
    "        print(self.ingradients)\n",
    "    \n",
    "    @classmethod\n",
    "    def from_fridge(cls, fridge):\n",
    "        return cls(fridge.cheese + fridge.vegetable)\n",
    "    \n",
    "fridge = Fridge('cheese', 'vegetable')\n",
    "Pizza.from_fridge(fridge).cook()"
   ]
  },
  {
   "cell_type": "markdown",
   "id": "41b2657d",
   "metadata": {},
   "source": [
    "## 추상메소드 "
   ]
  },
  {
   "cell_type": "code",
   "execution_count": 103,
   "id": "f259432d",
   "metadata": {},
   "outputs": [
    {
     "ename": "TypeError",
     "evalue": "Can't instantiate abstract class BasePizza with abstract methods get_radius",
     "output_type": "error",
     "traceback": [
      "\u001b[0;31m---------------------------------------------------------------------------\u001b[0m",
      "\u001b[0;31mTypeError\u001b[0m                                 Traceback (most recent call last)",
      "\u001b[0;32m<ipython-input-103-4d0edb34acae>\u001b[0m in \u001b[0;36m<module>\u001b[0;34m()\u001b[0m\n\u001b[1;32m      7\u001b[0m         \u001b[0;32mpass\u001b[0m\u001b[0;34m\u001b[0m\u001b[0;34m\u001b[0m\u001b[0m\n\u001b[1;32m      8\u001b[0m \u001b[0;34m\u001b[0m\u001b[0m\n\u001b[0;32m----> 9\u001b[0;31m \u001b[0mBasePizza\u001b[0m\u001b[0;34m(\u001b[0m\u001b[0;34m)\u001b[0m\u001b[0;34m\u001b[0m\u001b[0;34m\u001b[0m\u001b[0m\n\u001b[0m",
      "\u001b[0;31mTypeError\u001b[0m: Can't instantiate abstract class BasePizza with abstract methods get_radius"
     ]
    }
   ],
   "source": [
    "import abc\n",
    "\n",
    "class BasePizza(object, metaclass=abc.ABCMeta):\n",
    "    \n",
    "    @abc.abstractmethod\n",
    "    def get_radius(self):\n",
    "        pass\n",
    "    \n",
    "BasePizza()"
   ]
  },
  {
   "cell_type": "code",
   "execution_count": 109,
   "id": "c27a3a00",
   "metadata": {},
   "outputs": [
    {
     "name": "stdout",
     "output_type": "stream",
     "text": [
      "as a general method\n"
     ]
    }
   ],
   "source": [
    "class DietPizza(BasePizza):\n",
    "    \n",
    "    def get_radius(self):\n",
    "        print('as a general method')\n",
    "        pass\n",
    "\n",
    "DietPizza().get_radius()"
   ]
  },
  {
   "cell_type": "code",
   "execution_count": 110,
   "id": "25755d19",
   "metadata": {},
   "outputs": [
    {
     "name": "stdout",
     "output_type": "stream",
     "text": [
      "as a static method\n"
     ]
    }
   ],
   "source": [
    "class DietPizza(BasePizza):\n",
    "    \n",
    "    @staticmethod\n",
    "    def get_radius():\n",
    "        print('as a static method')\n",
    "        pass\n",
    "\n",
    "DietPizza().get_radius()"
   ]
  },
  {
   "cell_type": "code",
   "execution_count": 111,
   "id": "ff14e933",
   "metadata": {},
   "outputs": [
    {
     "name": "stdout",
     "output_type": "stream",
     "text": [
      "as a class method\n"
     ]
    }
   ],
   "source": [
    "class DietPizza(BasePizza):\n",
    "    \n",
    "    @classmethod\n",
    "    def get_radius(cls):\n",
    "        print('as a class method')\n",
    "        pass\n",
    "\n",
    "DietPizza().get_radius()"
   ]
  },
  {
   "cell_type": "markdown",
   "id": "799d1b7c",
   "metadata": {},
   "source": [
    "## 다중상속시 super() 호출"
   ]
  },
  {
   "cell_type": "code",
   "execution_count": 114,
   "id": "5339c20f",
   "metadata": {},
   "outputs": [],
   "source": [
    "class A(object):\n",
    "    bar = 42\n",
    "    def foo(self):\n",
    "        pass\n",
    "    \n",
    "class B(object):\n",
    "    bar = 0\n",
    "    \n",
    "class C(A,B):\n",
    "    xyz = 'abc'"
   ]
  },
  {
   "cell_type": "code",
   "execution_count": 115,
   "id": "6cd4623a",
   "metadata": {},
   "outputs": [
    {
     "data": {
      "text/plain": [
       "[__main__.C, __main__.A, __main__.B, object]"
      ]
     },
     "execution_count": 115,
     "metadata": {},
     "output_type": "execute_result"
    }
   ],
   "source": [
    "C.mro()  # method resolution order"
   ]
  },
  {
   "cell_type": "code",
   "execution_count": 116,
   "id": "56840760",
   "metadata": {},
   "outputs": [
    {
     "data": {
      "text/plain": [
       "42"
      ]
     },
     "execution_count": 116,
     "metadata": {},
     "output_type": "execute_result"
    }
   ],
   "source": [
    "super(C, C()).bar"
   ]
  },
  {
   "cell_type": "code",
   "execution_count": 117,
   "id": "d77a978e",
   "metadata": {},
   "outputs": [
    {
     "data": {
      "text/plain": [
       "<bound method A.foo of <__main__.C object at 0x7f09907b8e10>>"
      ]
     },
     "execution_count": 117,
     "metadata": {},
     "output_type": "execute_result"
    }
   ],
   "source": [
    "super(C, C()).foo"
   ]
  },
  {
   "cell_type": "code",
   "execution_count": 118,
   "id": "8f9ae27e",
   "metadata": {},
   "outputs": [
    {
     "data": {
      "text/plain": [
       "<super: __main__.C, None>"
      ]
     },
     "execution_count": 118,
     "metadata": {},
     "output_type": "execute_result"
    }
   ],
   "source": [
    "super(C)   # 두번째 인자가 bounding되지 않음 "
   ]
  },
  {
   "cell_type": "code",
   "execution_count": 119,
   "id": "754a9df6",
   "metadata": {},
   "outputs": [
    {
     "ename": "AttributeError",
     "evalue": "'super' object has no attribute 'bar'",
     "output_type": "error",
     "traceback": [
      "\u001b[0;31m---------------------------------------------------------------------------\u001b[0m",
      "\u001b[0;31mAttributeError\u001b[0m                            Traceback (most recent call last)",
      "\u001b[0;32m<ipython-input-119-dab35444a4f7>\u001b[0m in \u001b[0;36m<module>\u001b[0;34m()\u001b[0m\n\u001b[0;32m----> 1\u001b[0;31m \u001b[0msuper\u001b[0m\u001b[0;34m(\u001b[0m\u001b[0mC\u001b[0m\u001b[0;34m)\u001b[0m\u001b[0;34m.\u001b[0m\u001b[0mbar\u001b[0m\u001b[0;34m\u001b[0m\u001b[0;34m\u001b[0m\u001b[0m\n\u001b[0m",
      "\u001b[0;31mAttributeError\u001b[0m: 'super' object has no attribute 'bar'"
     ]
    }
   ],
   "source": [
    "super(C).bar # bounding이 필요 "
   ]
  },
  {
   "cell_type": "code",
   "execution_count": 120,
   "id": "393f8c39",
   "metadata": {},
   "outputs": [
    {
     "ename": "AttributeError",
     "evalue": "'super' object has no attribute 'foo'",
     "output_type": "error",
     "traceback": [
      "\u001b[0;31m---------------------------------------------------------------------------\u001b[0m",
      "\u001b[0;31mAttributeError\u001b[0m                            Traceback (most recent call last)",
      "\u001b[0;32m<ipython-input-120-08825b694ca2>\u001b[0m in \u001b[0;36m<module>\u001b[0;34m()\u001b[0m\n\u001b[0;32m----> 1\u001b[0;31m \u001b[0msuper\u001b[0m\u001b[0;34m(\u001b[0m\u001b[0mC\u001b[0m\u001b[0;34m)\u001b[0m\u001b[0;34m.\u001b[0m\u001b[0mfoo\u001b[0m \u001b[0;31m# bounding이 필요\u001b[0m\u001b[0;34m\u001b[0m\u001b[0;34m\u001b[0m\u001b[0m\n\u001b[0m",
      "\u001b[0;31mAttributeError\u001b[0m: 'super' object has no attribute 'foo'"
     ]
    }
   ],
   "source": [
    "super(C).foo # bounding이 필요 "
   ]
  },
  {
   "cell_type": "code",
   "execution_count": null,
   "id": "e343dc14",
   "metadata": {},
   "outputs": [],
   "source": []
  }
 ],
 "metadata": {
  "kernelspec": {
   "display_name": "Python (ai2)",
   "language": "python",
   "name": "ai"
  },
  "language_info": {
   "codemirror_mode": {
    "name": "ipython",
    "version": 3
   },
   "file_extension": ".py",
   "mimetype": "text/x-python",
   "name": "python",
   "nbconvert_exporter": "python",
   "pygments_lexer": "ipython3",
   "version": "3.6.12"
  },
  "toc": {
   "base_numbering": 1,
   "nav_menu": {},
   "number_sections": true,
   "sideBar": true,
   "skip_h1_title": false,
   "title_cell": "Table of Contents",
   "title_sidebar": "Contents",
   "toc_cell": false,
   "toc_position": {},
   "toc_section_display": true,
   "toc_window_display": false
  }
 },
 "nbformat": 4,
 "nbformat_minor": 5
}
